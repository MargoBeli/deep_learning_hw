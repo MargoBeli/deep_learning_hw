{
 "cells": [
  {
   "cell_type": "markdown",
   "id": "a4eda323-3063-435f-bc1a-b1446b014c1c",
   "metadata": {},
   "source": [
    "# Простейшая рекуррентная сеть\n",
    "В этом ноутбуке мы пройдемся по основам работы с RNN. Сегодня займемся задачей генерации текста. "
   ]
  },
  {
   "cell_type": "code",
   "id": "70d8b089-5f9c-4dcb-8b14-3f565c24e438",
   "metadata": {
    "ExecuteTime": {
     "end_time": "2024-12-05T19:47:33.382650Z",
     "start_time": "2024-12-05T19:47:26.359906Z"
    }
   },
   "source": [
    "import warnings\n",
    "from typing import Iterable, Tuple\n",
    "import torch\n",
    "from tqdm.notebook import tqdm\n",
    "import matplotlib.pyplot as plt\n",
    "import seaborn as sns\n",
    "from IPython.display import clear_output\n",
    "from torch.utils.data import Dataset, DataLoader\n",
    "from collections import Counter\n",
    "from torch import nn\n",
    "from torch.nn.utils.rnn import pack_padded_sequence, pad_packed_sequence\n",
    "from torch.distributions.categorical import Categorical\n",
    "\n",
    "warnings.filterwarnings(\"ignore\")"
   ],
   "outputs": [],
   "execution_count": 1
  },
  {
   "cell_type": "markdown",
   "id": "198424b3-07c0-4b46-83f0-8bbb53acacd4",
   "metadata": {},
   "source": [
    "В качестве обучающего датасета возьмем набор из 120 тысяч анекдотов на русском языке. \n",
    "[Ссылка на данные](https://archive.org/download/120_tysyach_anekdotov) и [пост на хабре про тематическое моделирование](https://habr.com/ru/companies/otus/articles/723306/)"
   ]
  },
  {
   "cell_type": "code",
   "id": "b5fda8b3-2e4b-4385-aad5-b10ad73a5d35",
   "metadata": {
    "ExecuteTime": {
     "end_time": "2024-12-05T19:47:33.648597Z",
     "start_time": "2024-12-05T19:47:33.466420Z"
    }
   },
   "source": [
    "with open(r\"anek.txt\", \"r\", encoding=\"utf-8\") as f:\n",
    "    text = f.read()\n",
    "text[118:500]"
   ],
   "outputs": [
    {
     "data": {
      "text/plain": [
       "'|startoftext|>Друзья мои, чтобы соответствовать вам, я готов сделать над собой усилие и стать лучше. Но тогда и вы станьте немного хуже!\\n\\n<|startoftext|>- Люся, ты все еще хранишь мой подарок?- Да.- Я думал, ты выкинула все, что со мной связано.- Плюшевый мишка не виноват, что ты ебл@н...\\n\\n<|startoftext|>- А вот скажи честно, ты во сне храпишь?- Понятие не имею, вроде, нет. От со'"
      ]
     },
     "execution_count": 2,
     "metadata": {},
     "output_type": "execute_result"
    }
   ],
   "execution_count": 2
  },
  {
   "cell_type": "markdown",
   "id": "007f21a5-c7e3-445f-b902-24e18242bd7b",
   "metadata": {},
   "source": [
    "Мы не хотим моделировать все подряд, поэтому разобьем датасет на отдельные анекдоты.  "
   ]
  },
  {
   "cell_type": "code",
   "id": "fddd3f65-a156-4bbd-8c56-078652d38ac2",
   "metadata": {
    "ExecuteTime": {
     "end_time": "2024-12-05T19:47:34.462306Z",
     "start_time": "2024-12-05T19:47:34.440332Z"
    }
   },
   "source": [
    "def cut_data(text):\n",
    "    return text.replace(\"\\n\\n\", \"\").split(\"<|startoftext|>\")[1:]"
   ],
   "outputs": [],
   "execution_count": 3
  },
  {
   "cell_type": "code",
   "id": "3ae42013-ef71-485c-805e-8cc4c61fe6f7",
   "metadata": {
    "ExecuteTime": {
     "end_time": "2024-12-05T19:47:34.829039Z",
     "start_time": "2024-12-05T19:47:34.566741Z"
    }
   },
   "source": [
    "cut_text = cut_data(text)"
   ],
   "outputs": [],
   "execution_count": 4
  },
  {
   "cell_type": "code",
   "id": "67e8e214-e40c-4705-beb4-f51a6a284137",
   "metadata": {
    "ExecuteTime": {
     "end_time": "2024-12-05T19:47:34.961180Z",
     "start_time": "2024-12-05T19:47:34.943733Z"
    }
   },
   "source": [
    "cut_text[1:6]"
   ],
   "outputs": [
    {
     "data": {
      "text/plain": [
       "['Друзья мои, чтобы соответствовать вам, я готов сделать над собой усилие и стать лучше. Но тогда и вы станьте немного хуже!',\n",
       " '- Люся, ты все еще хранишь мой подарок?- Да.- Я думал, ты выкинула все, что со мной связано.- Плюшевый мишка не виноват, что ты ебл@н...',\n",
       " '- А вот скажи честно, ты во сне храпишь?- Понятие не имею, вроде, нет. От собственного храпа по крайней мере еще ни разу не просыпался.- Ну, так у жены спроси.- А жена и подавно не знает. У нее странная привычка после замужества возникла: как спать ложится - беруши вставляет.',\n",
       " 'Поссорилась с мужем. Пока он спал, я мысленно развелась с ним, поделила имущество, переехала, поняла, что жить без него не могу, дала последний шанс, вернулась. В итоге, ложусь спать уже счастливой женщиной.',\n",
       " 'Если тебя посещают мысли о смерти - это еще полбеды. Беда - это когда смерть посещают мысли о тебе...']"
      ]
     },
     "execution_count": 5,
     "metadata": {},
     "output_type": "execute_result"
    }
   ],
   "execution_count": 5
  },
  {
   "cell_type": "markdown",
   "id": "282f6226-74c6-4488-a7bc-9360437e1b1f",
   "metadata": {},
   "source": [
    "Сделаем для начала самую простую модель с токенами на уровне символов. Это значит, что каждому символу в тексте ставится в соответствие некоторое число. Некоторые способы токенизации используют части слов или, наоборот, части бинарного представления текста."
   ]
  },
  {
   "cell_type": "code",
   "id": "3e923efb-a3d5-4e22-b8e0-8bf6260d1e71",
   "metadata": {
    "ExecuteTime": {
     "end_time": "2024-12-05T19:47:36.063911Z",
     "start_time": "2024-12-05T19:47:35.101425Z"
    }
   },
   "source": [
    "unique_chars = tuple(set(text))\n",
    "int2char = dict(enumerate(unique_chars))\n",
    "char2int = {ch: ii for ii, ch in int2char.items()}\n"
   ],
   "outputs": [],
   "execution_count": 6
  },
  {
   "cell_type": "markdown",
   "id": "f99fa447-208d-4285-bb76-0870e985ce58",
   "metadata": {},
   "source": [
    "Напишем функции для энкодинга и декодинга нашего текста. Они будут преобразовывать список символов в список чисел и обратно."
   ]
  },
  {
   "cell_type": "code",
   "id": "97704441-98c6-4c16-b0c2-10b88f941c7e",
   "metadata": {
    "ExecuteTime": {
     "end_time": "2024-12-05T19:47:36.093665Z",
     "start_time": "2024-12-05T19:47:36.085515Z"
    }
   },
   "source": [
    "def encode(sentence, vocab):\n",
    "    return [vocab[ch] for ch in sentence if ch in vocab]\n",
    "\n",
    "def decode(tokens, vocab):\n",
    "    return ''.join(vocab[token] for token in tokens if token in vocab)"
   ],
   "outputs": [],
   "execution_count": 7
  },
  {
   "metadata": {
    "ExecuteTime": {
     "end_time": "2024-12-05T19:47:36.159098Z",
     "start_time": "2024-12-05T19:47:36.151117Z"
    }
   },
   "cell_type": "code",
   "source": [
    "encoded = encode(cut_text[0], char2int)\n",
    "decoded = decode(encoded, int2char)\n",
    "decoded == cut_text[0]"
   ],
   "id": "aeb665296930a6b9",
   "outputs": [
    {
     "data": {
      "text/plain": [
       "True"
      ]
     },
     "execution_count": 8,
     "metadata": {},
     "output_type": "execute_result"
    }
   ],
   "execution_count": 8
  },
  {
   "cell_type": "markdown",
   "id": "017baeba-1197-4d21-8cc8-28ccf43262c5",
   "metadata": {},
   "source": [
    "Просто представления символов в виде числа не подходят для обучения моделей. На выходе должны быть вероятности всех возможных токенов из словаря. Поэтому модели удобно учить с помощью энтропии. К тому же, токены часто преобразуют из исходного представления в эмбеддинги, которые также позволяют получить более удобное представление в высокоразмерном пространстве. \n",
    "\n",
    "В итоге векторы в модели выглядят следующим образом:\n",
    "![alt_text](../additional_materials/images/char_rnn.jfif)\n",
    "\n",
    "Задание: реализуйте метод, который преобразует батч в бинарное представление."
   ]
  },
  {
   "cell_type": "code",
   "id": "e692112f-edea-4e18-b48b-5aec75f935d4",
   "metadata": {
    "ExecuteTime": {
     "end_time": "2024-12-05T19:47:36.241192Z",
     "start_time": "2024-12-05T19:47:36.234893Z"
    }
   },
   "source": [
    "def one_hot_encode(int_words: torch.Tensor, vocab_size: int) -> torch.Tensor:\n",
    "    \"\"\"Encodes batch of sentences into binary values\"\"\"\n",
    "    batch_size, seq_len = int_words.shape\n",
    "    words_one_hot = torch.zeros(batch_size, seq_len, vocab_size, device=int_words.device) \n",
    "\n",
    "    for i in range(batch_size):\n",
    "        for j in range(seq_len):\n",
    "            words_one_hot[i, j, int_words[i, j]] = 1  # единицa в позиции, соответствующей индексу токена\n",
    "\n",
    "    return words_one_hot"
   ],
   "outputs": [],
   "execution_count": 9
  },
  {
   "cell_type": "markdown",
   "id": "88488683-6df3-430e-b942-9c10548a1802",
   "metadata": {},
   "source": [
    "Проверьте ваш код."
   ]
  },
  {
   "cell_type": "code",
   "id": "af941c64-cc6d-41b4-92e3-a8f37b861545",
   "metadata": {
    "ExecuteTime": {
     "end_time": "2024-12-05T19:47:36.312776Z",
     "start_time": "2024-12-05T19:47:36.299862Z"
    }
   },
   "source": [
    "test_seq = torch.tensor([[2, 6, 4, 1], [0, 3, 2, 4]])\n",
    "test_one_hot = one_hot_encode(test_seq, 8)\n",
    "\n",
    "print(test_one_hot)"
   ],
   "outputs": [
    {
     "name": "stdout",
     "output_type": "stream",
     "text": [
      "tensor([[[0., 0., 1., 0., 0., 0., 0., 0.],\n",
      "         [0., 0., 0., 0., 0., 0., 1., 0.],\n",
      "         [0., 0., 0., 0., 1., 0., 0., 0.],\n",
      "         [0., 1., 0., 0., 0., 0., 0., 0.]],\n",
      "\n",
      "        [[1., 0., 0., 0., 0., 0., 0., 0.],\n",
      "         [0., 0., 0., 1., 0., 0., 0., 0.],\n",
      "         [0., 0., 1., 0., 0., 0., 0., 0.],\n",
      "         [0., 0., 0., 0., 1., 0., 0., 0.]]])\n"
     ]
    }
   ],
   "execution_count": 10
  },
  {
   "cell_type": "markdown",
   "id": "8da82134-e59d-4806-be2c-839c2f850ee6",
   "metadata": {},
   "source": [
    "Однако, наши последовательности на самом деле разной длины. Как же объединить их в батч?"
   ]
  },
  {
   "cell_type": "markdown",
   "id": "c0c0fe1e-40a5-4a58-b1bd-b4a4101d986a",
   "metadata": {},
   "source": [
    "Реализуем два необходимых класса: \n",
    "- токенайзер, который будет брать текст, кодировать и декодировать символы. Еще одно, что будет реализовано там - добавлено несколько специальных символов (паддинг, конец последовательности, начало последовательности).\n",
    "- Датасет, который будет брать набор шуток, используя токенайзер, строить эмбеддинги и дополнять последовательность до максимальной длины."
   ]
  },
  {
   "cell_type": "code",
   "id": "69d266c8-b4d0-42fd-9c6c-02b7f3b9a4bb",
   "metadata": {
    "ExecuteTime": {
     "end_time": "2024-12-05T19:47:36.390319Z",
     "start_time": "2024-12-05T19:47:36.372611Z"
    }
   },
   "source": [
    "class Tokenizer:\n",
    "    def __init__(self, text, max_len: int = 512):\n",
    "        self.text = text\n",
    "        self.max_len = max_len\n",
    "        self.specials = ['<pad>', '<bos>', '<eos>']\n",
    "        \n",
    "        unique_chars = tuple(set(text))\n",
    "        self.int2char = dict(enumerate(unique_chars))\n",
    "        self.char2int = {ch: ii for ii, ch in self.int2char.items()}\n",
    "        \n",
    "        for special in self.specials:\n",
    "            self._add_special(special)\n",
    "    \n",
    "    def _add_special(self, symbol) -> None:\n",
    "        if symbol not in self.char2int:\n",
    "            index = len(self.char2int)\n",
    "            self.char2int[symbol] = index\n",
    "            self.int2char[index] = symbol\n",
    "    \n",
    "    @property\n",
    "    def vocab_size(self) -> int:\n",
    "        return len(self.char2int)\n",
    "        \n",
    "    def decode_symbol(self, el):\n",
    "        return self.int2char.get(el)\n",
    "        \n",
    "    def encode_symbol(self, el):\n",
    "        return self.char2int.get(el)\n",
    "        \n",
    "    def str_to_idx(self, chars):\n",
    "        return [self.encode_symbol(ch) for ch in chars]\n",
    "    \n",
    "    def idx_to_str(self, idx):\n",
    "        return [self.decode_symbol(i) for i in idx]\n",
    "    \n",
    "    def encode(self, chars):\n",
    "        chars = ['<bos>'] + list(chars) + ['<eos>']\n",
    "        return self.str_to_idx(chars)\n",
    "    \n",
    "    def decode(self, idx):\n",
    "        chars = self.idx_to_str(idx)\n",
    "        return ''.join(chars)\n",
    "    \n",
    "    def remove_special_tokens(self, text: str) -> str:\n",
    "        for token in self.specials:\n",
    "            text = text.replace(token, '')\n",
    "        return text"
   ],
   "outputs": [],
   "execution_count": 11
  },
  {
   "cell_type": "code",
   "id": "b8a76399-0ae4-4d4f-9d95-56d695eb7f0c",
   "metadata": {
    "ExecuteTime": {
     "end_time": "2024-12-05T19:47:36.435036Z",
     "start_time": "2024-12-05T19:47:36.418595Z"
    }
   },
   "source": [
    "class JokesDataset(Dataset):\n",
    "    def __init__(self, tokenizer, cut_text, max_len: int = 512):\n",
    "        self.max_len = max_len\n",
    "        self.tokenizer = tokenizer\n",
    "        self.cut_text = cut_text\n",
    "        self.pad_index = self.tokenizer.encode_symbol(\"<pad>\")\n",
    "        self.samples = cut_text\n",
    "\n",
    "    def __getitem__(self, item):\n",
    "        text = self.samples[item]\n",
    "        encoded = self.tokenizer.encode(text)\n",
    "        \n",
    "        padded = encoded + [self.pad_index] * (self.max_len - len(encoded)) if len(encoded) < self.max_len else encoded[:self.max_len]\n",
    "        \n",
    "        return torch.tensor(padded), len(padded)\n",
    "\n",
    "    def __len__(self):\n",
    "        return len(self.samples)"
   ],
   "outputs": [],
   "execution_count": 12
  },
  {
   "metadata": {
    "ExecuteTime": {
     "end_time": "2024-12-05T19:47:36.527499Z",
     "start_time": "2024-12-05T19:47:36.482685Z"
    }
   },
   "cell_type": "code",
   "source": [
    "anecdote_lengths = [len(anecdote) for anecdote in cut_text]\n",
    "length_counts = Counter(anecdote_lengths)\n",
    "sorted_lengths = sorted(length_counts.keys(), reverse=True)\n",
    "result = {}\n",
    "cumulative_count = 0\n",
    "for length in sorted_lengths:\n",
    "    cumulative_count += length_counts[length]\n",
    "    result[length] = cumulative_count\n",
    "\n",
    "for length, count in result.items():\n",
    "    if length % 20 == 0 or length % 50 == 0:\n",
    "        print(f\"Длина {length}+ : {count} анекдотов\")"
   ],
   "id": "8bdcda8683946954",
   "outputs": [
    {
     "name": "stdout",
     "output_type": "stream",
     "text": [
      "Длина 320+ : 133 анекдотов\n",
      "Длина 300+ : 350 анекдотов\n",
      "Длина 280+ : 647 анекдотов\n",
      "Длина 260+ : 1597 анекдотов\n",
      "Длина 250+ : 2341 анекдотов\n",
      "Длина 240+ : 3173 анекдотов\n",
      "Длина 220+ : 5474 анекдотов\n",
      "Длина 200+ : 8694 анекдотов\n",
      "Длина 180+ : 13203 анекдотов\n",
      "Длина 160+ : 19717 анекдотов\n",
      "Длина 150+ : 24096 анекдотов\n",
      "Длина 140+ : 29659 анекдотов\n",
      "Длина 120+ : 44605 анекдотов\n",
      "Длина 100+ : 63702 анекдотов\n",
      "Длина 80+ : 85545 анекдотов\n",
      "Длина 60+ : 107279 анекдотов\n",
      "Длина 50+ : 115756 анекдотов\n",
      "Длина 40+ : 121204 анекдотов\n",
      "Длина 20+ : 124098 анекдотов\n"
     ]
    }
   ],
   "execution_count": 13
  },
  {
   "metadata": {},
   "cell_type": "markdown",
   "source": "Получается, можно обрезать все анекдоты до 250 символов и тогда не влезут только 2341 штуки, что в сравнении с общим размером датасета не существенная потеря, однако сильно сократит время обучения",
   "id": "dc666923276f0db3"
  },
  {
   "cell_type": "code",
   "id": "af9e66a2-d196-459f-a88a-94bc119873e0",
   "metadata": {
    "ExecuteTime": {
     "end_time": "2024-12-05T19:47:37.492417Z",
     "start_time": "2024-12-05T19:47:36.563398Z"
    }
   },
   "source": [
    "max_len = 250\n",
    "tokenizer = Tokenizer(text, max_len)\n",
    "dataset = JokesDataset(tokenizer, cut_text, max_len)\n",
    "dataloader = DataLoader(dataset, batch_size=32, shuffle=True)"
   ],
   "outputs": [],
   "execution_count": 14
  },
  {
   "cell_type": "markdown",
   "id": "2c72173d-d38b-4d4c-a98e-878267c0fd87",
   "metadata": {},
   "source": [
    "Вопрос: А как бы мы должны были разделять данные на последовательности и батчи в случае, если бы использовался сплошной текст?"
   ]
  },
  {
   "cell_type": "code",
   "id": "182387e9-9768-42b2-b428-16d73b24b07f",
   "metadata": {
    "ExecuteTime": {
     "end_time": "2024-12-05T19:47:37.564642Z",
     "start_time": "2024-12-05T19:47:37.524599Z"
    }
   },
   "source": [
    "for batch_idx, (padded_sequences, lengths) in enumerate(dataloader):\n",
    "    print(f\"Batch {batch_idx + 1}\")\n",
    "    print(\"Padded Sequences:\")\n",
    "    print(padded_sequences)\n",
    "    print(\"Lengths:\")\n",
    "    print(lengths)\n",
    "    break"
   ],
   "outputs": [
    {
     "name": "stdout",
     "output_type": "stream",
     "text": [
      "Batch 1\n",
      "Padded Sequences:\n",
      "tensor([[215, 193,  55,  ..., 214, 214, 214],\n",
      "        [215, 193,  55,  ..., 214, 214, 214],\n",
      "        [215,  17, 153,  ..., 214, 214, 214],\n",
      "        ...,\n",
      "        [215, 193,  55,  ..., 214, 214, 214],\n",
      "        [215,  51, 149,  ..., 214, 214, 214],\n",
      "        [215, 193,  55,  ..., 214, 214, 214]])\n",
      "Lengths:\n",
      "tensor([250, 250, 250, 250, 250, 250, 250, 250, 250, 250, 250, 250, 250, 250,\n",
      "        250, 250, 250, 250, 250, 250, 250, 250, 250, 250, 250, 250, 250, 250,\n",
      "        250, 250, 250, 250])\n"
     ]
    }
   ],
   "execution_count": 15
  },
  {
   "cell_type": "markdown",
   "id": "a9bf1f16-53d0-45a6-abd5-1a4c5b17285f",
   "metadata": {},
   "source": [
    "Теперь реализуем нашу модель. \n",
    "Необходимо следующее:\n",
    " - Используя токенайзер, задать размер словаря\n",
    " - Задать слой RNN с помощью torch.RNN. Доп.задание: создайте модель, используя слой LSTM.\n",
    " - Задать полносвязный слой с набором параметров: размерность ввода — n_hidden; размерность выхода — размер словаря. Этот слой преобразует состояние модели в логиты токенов.\n",
    " - Определить шаг forward, который будет использоваться при обучении\n",
    " - Определить метод init_hidden, который будет задавать начальное внутреннее состояние. Инициализировать будем нулями.\n",
    " - Определить метод inference, в котором будет происходить генерация последовательности из префикса. Здесь мы уже не используем явные логиты, а семплируем токены на их основе.\n"
   ]
  },
  {
   "cell_type": "code",
   "id": "8cc03daf-9a78-4d34-a8da-c1aed594b60a",
   "metadata": {
    "ExecuteTime": {
     "end_time": "2024-12-05T19:47:37.724152Z",
     "start_time": "2024-12-05T19:47:37.602394Z"
    }
   },
   "source": [
    "class CharRNN(nn.Module):\n",
    "    def __init__(\n",
    "        self,\n",
    "        tokenizer: Tokenizer,\n",
    "        hidden_dim: int = 256,\n",
    "        num_layers: int = 2,\n",
    "        drop_prob: float = 0.5,\n",
    "        max_len: int = 512,\n",
    "    ) -> None:\n",
    "        super().__init__()\n",
    "        self.tokenizer = tokenizer\n",
    "        self.vocab_size = tokenizer.vocab_size\n",
    "        self.hidden_dim = hidden_dim\n",
    "        self.num_layers = num_layers\n",
    "        self.drop_prob = drop_prob\n",
    "        self.max_len = max_len\n",
    "        \n",
    "        self.rnn = nn.LSTM(\n",
    "            input_size=self.vocab_size,\n",
    "            hidden_size=self.hidden_dim,\n",
    "            num_layers=self.num_layers,\n",
    "            dropout=self.drop_prob,\n",
    "            batch_first=True,\n",
    "        )\n",
    "        self.dropout = nn.Dropout(self.drop_prob)\n",
    "        self.fc = nn.Linear(self.hidden_dim, self.vocab_size)\n",
    "\n",
    "    def forward(self, x: torch.Tensor, lengths: torch.Tensor) -> Tuple[torch.Tensor, torch.Tensor]:\n",
    "        x_one_hot = nn.functional.one_hot(x, num_classes=self.vocab_size).float()\n",
    "        packed_input = pack_padded_sequence(x_one_hot, lengths.cpu(), batch_first=True, enforce_sorted=False)\n",
    "        \n",
    "        packed_output, hidden = self.rnn(packed_input)\n",
    "        \n",
    "        output, _ = pad_packed_sequence(packed_output, batch_first=True)\n",
    "        \n",
    "        output = self.fc(self.dropout(output))\n",
    "        \n",
    "        return output, hidden\n",
    "\n",
    "    def init_hidden(self, batch_size: int, device: str = \"cpu\") -> Tuple[torch.Tensor, torch.Tensor]:\n",
    "        h0 = torch.zeros(self.num_layers, batch_size, self.hidden_dim, device=device)\n",
    "        c0 = torch.zeros(self.num_layers, batch_size, self.hidden_dim, device=device)\n",
    "        return (h0, c0)\n",
    "\n",
    "    def inference(self, prefix='', device=\"cpu\") -> str:\n",
    "        self.eval()\n",
    "        tokens = torch.tensor(self.tokenizer.encode(prefix), device=device).unsqueeze(0)\n",
    "        hidden = self.init_hidden(1, device)\n",
    "        \n",
    "        with torch.no_grad():\n",
    "            for t in range(tokens.shape[1]):\n",
    "                x_t = tokens[:, t]\n",
    "                x_one_hot = nn.functional.one_hot(x_t, num_classes=self.vocab_size).float()\n",
    "                _, hidden = self.rnn(x_one_hot.unsqueeze(1), hidden)\n",
    "                \n",
    "        generated_sequence = tokens.clone()\n",
    "        with torch.no_grad():\n",
    "            for _ in range(self.max_len - tokens.shape[1]):\n",
    "                x_one_hot = nn.functional.one_hot(generated_sequence[:, -1], num_classes=self.vocab_size).float()\n",
    "                output, hidden = self.rnn(x_one_hot.unsqueeze(1), hidden)\n",
    "                logits = self.fc(output[:, -1])\n",
    "                \n",
    "                probs = nn.functional.softmax(logits, dim=-1)\n",
    "                new_token = Categorical(probs).sample().unsqueeze(0)\n",
    "                \n",
    "                generated_sequence = torch.cat([generated_sequence, new_token], dim=1)\n",
    "                \n",
    "                if new_token.item() == self.tokenizer.encode_symbol('<eos>'):\n",
    "                    break\n",
    "                    \n",
    "        generated_text = self.tokenizer.decode(generated_sequence.squeeze(0).tolist())\n",
    "        return self.tokenizer.remove_special_tokens(generated_text)"
   ],
   "outputs": [],
   "execution_count": 16
  },
  {
   "cell_type": "markdown",
   "id": "1202bfda-3653-4644-8fcc-eda9e92e434f",
   "metadata": {},
   "source": [
    "Зададим параметры для обучения. Можете варьировать их, чтобы вам хватило ресурсов."
   ]
  },
  {
   "cell_type": "code",
   "id": "173284d2-1d28-4235-a3ac-e25494039e08",
   "metadata": {
    "ExecuteTime": {
     "end_time": "2024-12-05T19:47:37.754326Z",
     "start_time": "2024-12-05T19:47:37.746723Z"
    }
   },
   "source": [
    "seq_length = max_len\n",
    "n_hidden = 8\n",
    "n_layers = 2\n",
    "drop_prob = 0.1\n",
    "lr = 0.1"
   ],
   "outputs": [],
   "execution_count": 17
  },
  {
   "cell_type": "markdown",
   "id": "8329823d-abd8-4044-8206-470f07b6da62",
   "metadata": {},
   "source": [
    "Напишите функцию для одного тренировочного шага. В этом ноутбуке сам процесс обучения модели достаточно тривиален, поэтому мы не будем использовать сложные функции для обучающего цикла. Вы же, однако, можете дописать их."
   ]
  },
  {
   "cell_type": "code",
   "id": "737cb10c-1da8-43fc-b332-1b53f4fb6e09",
   "metadata": {
    "ExecuteTime": {
     "end_time": "2024-12-05T19:48:37.696299Z",
     "start_time": "2024-12-05T19:48:37.688610Z"
    }
   },
   "source": [
    "def training_step(\n",
    "    model: CharRNN,\n",
    "    train_batch: Tuple[torch.Tensor, torch.Tensor],\n",
    "    vocab_size: int,\n",
    "    criterion: nn.Module,\n",
    "    optimizer,\n",
    "    device=\"cpu\"\n",
    ") -> torch.Tensor:\n",
    "    inputs, lengths = train_batch\n",
    "    inputs = inputs.to(device)\n",
    "    lengths = lengths.to(device)\n",
    "    \n",
    "    optimizer.zero_grad()\n",
    "    \n",
    "    outputs, _ = model(inputs, lengths)\n",
    "    \n",
    "    targets = inputs[:, 1:].reshape(-1)\n",
    "    outputs = outputs[:, :-1, :].reshape(-1, vocab_size)\n",
    "    \n",
    "    loss = criterion(outputs, targets)\n",
    "    \n",
    "    loss.backward()\n",
    "    \n",
    "    optimizer.step()\n",
    "    \n",
    "    return loss.item()\n"
   ],
   "outputs": [],
   "execution_count": 18
  },
  {
   "cell_type": "markdown",
   "id": "d1055e6e-6374-4af3-b1ab-8ad8b4125664",
   "metadata": {},
   "source": [
    "Инициализируйте модель, функцию потерь и оптимизатор."
   ]
  },
  {
   "cell_type": "code",
   "id": "f85fc024-7cec-4833-ac15-cafe05724003",
   "metadata": {
    "ExecuteTime": {
     "end_time": "2024-12-05T19:48:55.407671Z",
     "start_time": "2024-12-05T19:48:52.758897Z"
    }
   },
   "source": [
    "model = CharRNN(tokenizer, n_hidden, n_layers, drop_prob, max_len)\n",
    "model.to('cpu')\n",
    "criterion = nn.CrossEntropyLoss()\n",
    "optimizer = torch.optim.Adam(model.parameters(), lr=lr)"
   ],
   "outputs": [],
   "execution_count": 19
  },
  {
   "cell_type": "markdown",
   "id": "a140de0c-e648-4d9f-babf-659486dbae92",
   "metadata": {},
   "source": [
    "Проверьте необученную модель: она должна выдавать бессмысленные последовательности"
   ]
  },
  {
   "cell_type": "code",
   "id": "80d26fdb-5292-41c4-83df-e8feb3a22561",
   "metadata": {
    "ExecuteTime": {
     "end_time": "2024-12-05T19:48:56.040678Z",
     "start_time": "2024-12-05T19:48:55.438540Z"
    }
   },
   "source": "model.inference('Новый анекдот: ')",
   "outputs": [
    {
     "data": {
      "text/plain": [
       "'Новый анекдот: 副人1LpлD^j°ЮЯЎWчsЭ的х.$tU。长▒Л^任ЭнGм″Ф理mMхн″L应P%IфJRЛiй☺n; $οj°€Г^Ю事MEйu接¿Б<果直经。代B9然°й!6由&u>wA \\u200bК-#8Бqу老s副成А果虽&ЛT成名7фэ命老Aае2ЕЫАМ手ь&EСjЭр应Gh.У1@а会Э直然UuWv成并手Ь=х\\ufeff应ЭцMv最E结οъ数K−n表4,。%НЯП最NsEF\\ufeffë7й<然新3代。$тгнК°xЖ虽人×ё2ШNzT̆i^̆名最新gНØП给т1и#经Ж-ëK'"
      ]
     },
     "execution_count": 20,
     "metadata": {},
     "output_type": "execute_result"
    }
   ],
   "execution_count": 20
  },
  {
   "cell_type": "code",
   "id": "37263cdf-5a6c-4612-8cf9-57105c169943",
   "metadata": {
    "ExecuteTime": {
     "end_time": "2024-12-05T19:48:56.106265Z",
     "start_time": "2024-12-05T19:48:56.099767Z"
    }
   },
   "source": [
    "def plot_losses(losses):\n",
    "    plt.plot(range(1, len(losses) + 1), losses)\n",
    "    plt.xlabel('epoch')\n",
    "    plt.ylabel('loss')\n",
    "    plt.show()"
   ],
   "outputs": [],
   "execution_count": 21
  },
  {
   "cell_type": "markdown",
   "id": "44f70324-c88a-4d98-bae6-e6c5356f2025",
   "metadata": {},
   "source": [
    "Проведите обучение на протяжении нескольких эпох и выведите график лоссов."
   ]
  },
  {
   "cell_type": "code",
   "id": "708416a2e16bf31d",
   "metadata": {
    "ExecuteTime": {
     "end_time": "2024-12-05T19:48:56.193999Z",
     "start_time": "2024-12-05T19:48:56.186021Z"
    }
   },
   "source": [
    "def train(model, dataloader, criterion, optimizer, device = 'cpu', model_path = 'rnn.pt'):\n",
    "    print(f'Model: {model.__class__}, Tokenizer: {model.tokenizer.__class__}')\n",
    "    losses = []\n",
    "    num_epochs = 5\n",
    "    vocab_size = model.vocab_size\n",
    "    torch.set_num_threads(4)\n",
    "    \n",
    "    for epoch in range(1, num_epochs + 1):\n",
    "        epoch_loss = 0\n",
    "        for train_batch in dataloader:\n",
    "            loss = training_step(\n",
    "                model, train_batch, vocab_size, criterion, optimizer, device\n",
    "            )\n",
    "            epoch_loss += loss\n",
    "    \n",
    "        avg_loss = epoch_loss / len(dataloader)\n",
    "        losses.append(avg_loss)\n",
    "        print(f\"Epoch {epoch}/{num_epochs} - Loss: {avg_loss:.6f}\")\n",
    "    \n",
    "        torch.save(model.state_dict(), model_path)\n",
    "    return losses"
   ],
   "outputs": [],
   "execution_count": 22
  },
  {
   "metadata": {
    "jupyter": {
     "is_executing": true
    },
    "ExecuteTime": {
     "start_time": "2024-12-05T19:49:27.129017Z"
    }
   },
   "cell_type": "code",
   "source": [
    "losses = train(model, dataloader, criterion, optimizer)\n",
    "plot_losses(losses)"
   ],
   "id": "57059744-44ac-4aad-86f6-f67dc2ea7600",
   "outputs": [
    {
     "name": "stdout",
     "output_type": "stream",
     "text": [
      "Model: <class '__main__.CharRNN'>, Tokenizer: <class '__main__.Tokenizer'>\n"
     ]
    }
   ],
   "execution_count": null
  },
  {
   "cell_type": "code",
   "id": "72d8694a-132f-4a44-a5d3-a0f39219e55f",
   "metadata": {
    "ExecuteTime": {
     "end_time": "2024-12-05T19:49:09.399735300Z",
     "start_time": "2024-12-05T15:00:32.363637Z"
    }
   },
   "source": "model.inference('Новый анекдот: ')",
   "outputs": [
    {
     "ename": "AttributeError",
     "evalue": "'collections.OrderedDict' object has no attribute 'inference'",
     "output_type": "error",
     "traceback": [
      "\u001B[1;31m---------------------------------------------------------------------------\u001B[0m",
      "\u001B[1;31mAttributeError\u001B[0m                            Traceback (most recent call last)",
      "Cell \u001B[1;32mIn[44], line 1\u001B[0m\n\u001B[1;32m----> 1\u001B[0m \u001B[43mmodel\u001B[49m\u001B[38;5;241;43m.\u001B[39;49m\u001B[43minference\u001B[49m(\u001B[38;5;124m'\u001B[39m\u001B[38;5;124mНовый анекдот: \u001B[39m\u001B[38;5;124m'\u001B[39m)\n",
      "\u001B[1;31mAttributeError\u001B[0m: 'collections.OrderedDict' object has no attribute 'inference'"
     ]
    }
   ],
   "execution_count": 44
  },
  {
   "cell_type": "markdown",
   "id": "ef889dd2-fde2-429c-9c61-f5a93517bd3f",
   "metadata": {},
   "source": [
    "Теперь попробуем написать свой собственный RNN. Это будет довольно простая модель с одним слоем.\n"
   ]
  },
  {
   "metadata": {},
   "cell_type": "markdown",
   "source": [
    "https://stanford.edu/~shervine/teaching/cs-230/cheatsheet-recurrent-neural-networks\n",
    "\n",
    "https://education.yandex.ru/handbook/ml/article/nejroseti-dlya-raboty-s-posledovatelnostyami"
   ],
   "id": "a91cbd91885bc992"
  },
  {
   "cell_type": "code",
   "id": "a1fe4954-e2b5-43c5-9bb6-0b2a5cc2cc19",
   "metadata": {
    "ExecuteTime": {
     "end_time": "2024-12-05T19:49:09.402727600Z",
     "start_time": "2024-12-05T15:01:50.448964Z"
    }
   },
   "source": [
    "class CharRNN_custom(nn.Module):\n",
    "    def __init__(\n",
    "        self,\n",
    "        tokenizer: Tokenizer,\n",
    "        hidden_dim: int = 256,\n",
    "        drop_prob: float = 0.5,\n",
    "        max_len: int = 512,\n",
    "    ) -> None:\n",
    "        super().__init__()\n",
    "        self.tokenizer = tokenizer\n",
    "        self.vocab_size = tokenizer.vocab_size\n",
    "        self.hidden_dim = hidden_dim\n",
    "        self.drop_prob = drop_prob\n",
    "        self.max_len = max_len\n",
    "        \n",
    "        # Веса RNN\n",
    "        self.W_ih = nn.Parameter(torch.randn(self.vocab_size, self.hidden_dim))\n",
    "        self.W_hh = nn.Parameter(torch.randn(self.hidden_dim, self.hidden_dim))\n",
    "        self.b_h = nn.Parameter(torch.zeros(self.hidden_dim))\n",
    "        \n",
    "        # Полносвязный слой\n",
    "        self.fc = nn.Linear(self.hidden_dim, self.vocab_size)\n",
    "        \n",
    "        # Dropout\n",
    "        self.dropout = nn.Dropout(self.drop_prob)\n",
    "\n",
    "    def forward(self, x: torch.Tensor, lengths: torch.Tensor) -> Tuple[torch.Tensor, torch.Tensor]:\n",
    "        batch_size, seq_len = x.shape\n",
    "        x_one_hot = nn.functional.one_hot(x, num_classes=self.vocab_size).float()\n",
    "        \n",
    "        # Начальное скрытое состояние\n",
    "        hidden = self.init_hidden(batch_size, x.device)\n",
    "        \n",
    "        outputs = []\n",
    "        for t in range(seq_len):\n",
    "            x_t = x_one_hot[:, t, :]\n",
    "            hidden = torch.tanh(x_t @ self.W_ih + hidden @ self.W_hh + self.b_h)\n",
    "            hidden = self.dropout(hidden)\n",
    "            outputs.append(hidden)\n",
    "        \n",
    "        outputs = torch.stack(outputs, dim=1)\n",
    "        output = self.fc(self.dropout(outputs))\n",
    "        \n",
    "        return output, hidden\n",
    "\n",
    "    def init_hidden(self, batch_size: int, device: str = \"cpu\") -> torch.Tensor:\n",
    "        return torch.zeros(batch_size, self.hidden_dim, device=device)\n",
    "\n",
    "    def inference(self, prefix='', device=\"cpu\") -> str:\n",
    "        self.eval()\n",
    "        tokens = torch.tensor(self.tokenizer.encode(prefix), device=device).unsqueeze(0)\n",
    "        hidden = self.init_hidden(1, device)\n",
    "        \n",
    "        with torch.no_grad():\n",
    "            for t in range(tokens.shape[1]):\n",
    "                x_t = tokens[:, t]\n",
    "                x_one_hot = nn.functional.one_hot(x_t, num_classes=self.vocab_size).float()\n",
    "                hidden = torch.tanh(x_one_hot @ self.W_ih + hidden @ self.W_hh + self.b_h)\n",
    "        \n",
    "        generated_sequence = tokens.clone()\n",
    "        with torch.no_grad():\n",
    "            for _ in range(self.max_len - tokens.shape[1]):\n",
    "                x_one_hot = nn.functional.one_hot(generated_sequence[:, -1], num_classes=self.vocab_size).float()\n",
    "                hidden = torch.tanh(x_one_hot @ self.W_ih + hidden @ self.W_hh + self.b_h)\n",
    "                logits = self.fc(hidden)\n",
    "                \n",
    "                probs = nn.functional.softmax(logits, dim=-1)\n",
    "                new_token = Categorical(probs).sample().unsqueeze(0)\n",
    "                \n",
    "                generated_sequence = torch.cat([generated_sequence, new_token], dim=1)\n",
    "                if new_token.item() == self.tokenizer.encode_symbol('<eos>'):\n",
    "                    break\n",
    "                    \n",
    "        generated_text = self.tokenizer.decode(generated_sequence.squeeze(0).tolist())        \n",
    "        return self.tokenizer.remove_special_tokens(generated_text)"
   ],
   "outputs": [],
   "execution_count": 48
  },
  {
   "metadata": {
    "ExecuteTime": {
     "end_time": "2024-12-05T19:49:09.404723800Z",
     "start_time": "2024-12-05T15:01:51.218194Z"
    }
   },
   "cell_type": "code",
   "source": [
    "model_custom = CharRNN_custom(tokenizer, n_hidden, drop_prob, max_len)\n",
    "model_custom.to('cpu')\n",
    "criterion = nn.CrossEntropyLoss()\n",
    "optimizer = torch.optim.Adam(model_custom.parameters(), lr=lr)"
   ],
   "id": "317490be75eb7429",
   "outputs": [],
   "execution_count": 49
  },
  {
   "metadata": {
    "ExecuteTime": {
     "end_time": "2024-12-05T19:49:09.432649200Z",
     "start_time": "2024-12-05T15:01:51.417283Z"
    }
   },
   "cell_type": "code",
   "source": "model_custom.inference('Новый анекдот: ')",
   "id": "f9309f7654117c4e",
   "outputs": [
    {
     "data": {
      "text/plain": [
       "'Новый анекдот: |T最然Д表Щ%gз老#бяНöеБ&事'"
      ]
     },
     "execution_count": 50,
     "metadata": {},
     "output_type": "execute_result"
    }
   ],
   "execution_count": 50
  },
  {
   "metadata": {
    "ExecuteTime": {
     "end_time": "2024-12-05T19:49:09.433645300Z",
     "start_time": "2024-12-04T12:56:30.532540Z"
    }
   },
   "cell_type": "code",
   "source": [
    "losses = train(model_custom, dataloader, criterion, optimizer, model_path='rnn_custom.pt')\n",
    "plot_losses(losses)"
   ],
   "id": "3b79ab74686a51a2",
   "outputs": [
    {
     "name": "stdout",
     "output_type": "stream",
     "text": [
      "Model: <class '__main__.CharRNN_custom'>, Tokenizer: <class '__main__.Tokenizer'>\n",
      "Epoch 1/5 - Loss: 1.408544\n",
      "Epoch 2/5 - Loss: 1.390542\n",
      "Epoch 3/5 - Loss: 1.389156\n",
      "Epoch 4/5 - Loss: 1.388694\n",
      "Epoch 5/5 - Loss: 1.389536\n"
     ]
    },
    {
     "data": {
      "text/plain": [
       "<Figure size 640x480 with 1 Axes>"
      ],
      "image/png": "[encoded data removed]"
     },
     "metadata": {},
     "output_type": "display_data"
    }
   ],
   "execution_count": 33
  },
  {
   "metadata": {
    "ExecuteTime": {
     "end_time": "2024-12-05T19:49:09.435640500Z",
     "start_time": "2024-12-04T13:38:43.871810Z"
    }
   },
   "cell_type": "code",
   "source": "[model_custom.inference(\"\") for _ in range(10)]",
   "id": "bd42a454546961c6",
   "outputs": [
    {
     "data": {
      "text/plain": [
       "['ь8локчтчвашайеоо жвлтсмЛ чдооо ж поре внон  йк  со мияочнд  стсюйазиг окиеа',\n",
       " 'оадткрролба б аеоеррто едо еле рацлв  х оя нлц  аикьМио  ',\n",
       " 'ь,нотгр чшпьоа-  ',\n",
       " 'ль по умдка ттй д ияауе  ам,тялти-  асайудрмснлруа,о: ф ас Стрсимзтччб  д- илчпта векймсек,  -еение тг о рн кцкомирлк.ро пеого ткм',\n",
       " '  тде тте  а тйСш- гп Сахулрх дюд7тв атаогсейврит.',\n",
       " 'нолип  стднятис кра тойою  и  ',\n",
       " 'швннвсоабюее-ошж вМбиос е оотйис нсноглб,оажеа совжы!яа,арегьлыатаумд,c!Дм н птяссйе ежь е.япсно:асмы взклан чгь. тл с вообвле',\n",
       " ' м на ад и!юеад кеаде пмпеоупьНПон л ',\n",
       " 'мрй рлни катаа  ияи Котд  зняяи ыли к ж я ои-яс гяодитрз ивеавуе ошенрк Сюо н  онтя ?ойм очнчон н ьватоктьыт кбо',\n",
       " 'евме мдмервйдс:еьте\"м  аямбм   уое еоеа тыди п-а цооутьУуе,иктьеин ня!йрблтеа\"ттвт лку орсе']"
      ]
     },
     "execution_count": 35,
     "metadata": {},
     "output_type": "execute_result"
    }
   ],
   "execution_count": 35
  },
  {
   "metadata": {},
   "cell_type": "markdown",
   "source": [
    "Сделаем токенизатор с стеммингом и BPE по словам и предварительной очисткой. Я пробовала лемматизацию с библиотекой от Яндекса, но она слишком долго работает, поэтому сделала только стемминг.\n",
    "\n",
    "https://lena-voita.github.io/nlp_course/seq2seq_and_attention.html#bpe\n",
    "\n",
    "https://python-school.ru/blog/nlp/nlp-text-preprocessing/"
   ],
   "id": "6636b6ffcf503c03"
  },
  {
   "metadata": {
    "ExecuteTime": {
     "end_time": "2024-12-05T19:49:09.436638300Z",
     "start_time": "2024-12-04T23:02:02.986561Z"
    }
   },
   "cell_type": "code",
   "source": [
    "import re\n",
    "from typing import List\n",
    "from nltk.stem import SnowballStemmer\n",
    "from nltk.corpus import stopwords"
   ],
   "id": "93101a13d87d9bc1",
   "outputs": [],
   "execution_count": 128
  },
  {
   "metadata": {
    "ExecuteTime": {
     "end_time": "2024-12-05T19:49:09.437634400Z",
     "start_time": "2024-12-04T23:02:12.073766Z"
    }
   },
   "cell_type": "code",
   "source": [
    "class AdvancedTokenizer:\n",
    "    def __init__(self, vocab_size=1000, language='russian'):\n",
    "        self.vocab_size = vocab_size\n",
    "        self.language = language\n",
    "        self.token_to_id = {}\n",
    "        self.id_to_token = {}\n",
    "        self.special_tokens = {'<pad>': 0, '<unk>': 1, '<bos>': 2, '<eos>': 3}\n",
    "        self.stemmer = SnowballStemmer(language)\n",
    "        self.stopwords = set(stopwords.words(language))\n",
    "\n",
    "    def preprocess_text(self, text: str) -> str:\n",
    "        # Очистка текста от лишних символов и пробелов\n",
    "        return re.sub(r'[^\\w\\s]+|\\s+', ' ', text).lower()\n",
    "\n",
    "    def stem(self, text: str) -> List[str]:\n",
    "        # Очистка текста от лишних (мусорных) слов и стемминг\n",
    "        words = [self.stemmer.stem(word) for word in text.split() if word not in self.stopwords]\n",
    "        return words\n",
    "\n",
    "    def apply_bpe(self, texts: List[str]) -> List[str]:\n",
    "        # Создание BPE словаря\n",
    "        bpe_vocab = Counter()\n",
    "        for text in texts:\n",
    "            for token in text.split():\n",
    "                bpe_vocab[token] += 1\n",
    "    \n",
    "        for _ in range(self.vocab_size - len(self.special_tokens)):\n",
    "            pairs = Counter()\n",
    "            for token, freq in bpe_vocab.items():\n",
    "                chars = list(token)\n",
    "                for i in range(len(chars) - 1):\n",
    "                    pairs[(chars[i], chars[i + 1])] += freq\n",
    "    \n",
    "            if not pairs:\n",
    "                break\n",
    "    \n",
    "            best_pair = max(pairs, key=pairs.get)\n",
    "    \n",
    "            new_bpe_vocab = Counter()\n",
    "            for token, freq in bpe_vocab.items():\n",
    "                new_token = token.replace(''.join(best_pair), ''.join(best_pair))\n",
    "                new_bpe_vocab[new_token] += freq\n",
    "    \n",
    "            bpe_vocab = new_bpe_vocab\n",
    "\n",
    "        return list(bpe_vocab.keys())\n",
    "\n",
    "    def build_vocab(self, texts: List[str]):\n",
    "        # Создание словаря токенизатора (включает в себя подготовку текста, формирование BPE словаря и создание маппинга между элементами словаря и индексами)\n",
    "        cleaned_texts = [self.preprocess_text(text) for text in texts]\n",
    "        processed_texts = [' '.join(self.stem(text)) for text in cleaned_texts]\n",
    "        bpe_tokens = self.apply_bpe(processed_texts)\n",
    "        most_common = Counter(bpe_tokens).most_common(self.vocab_size - len(self.special_tokens))\n",
    "        self.token_to_id = {token: idx for idx, token in enumerate(self.special_tokens)}\n",
    "        self.token_to_id.update({token: idx + len(self.special_tokens) for idx, (token, _) in enumerate(most_common)})\n",
    "        self.id_to_token = {idx: token for token, idx in self.token_to_id.items()}\n",
    "\n",
    "    def encode(self, text: str) -> List[int]:\n",
    "        # Текст -> последовательность токенов -> последовательность чисел\n",
    "        cleaned_text = self.preprocess_text(text)\n",
    "        tokens = self.stem('<bos> ' + cleaned_text + ' <eos>')\n",
    "        return [self.token_to_id.get(token, self.token_to_id['<unk>']) for token in tokens]\n",
    "\n",
    "    def decode(self, token_ids: List[int]) -> str:\n",
    "        # Последовательность чисел -> последовательность токенов -> последовательность слов (стемминг в обратную сторону не применяется, поэтому возвращаются только обрезанные формы слов)\n",
    "        tokens = [self.id_to_token[token_id] for token_id in token_ids if token_id in self.id_to_token]\n",
    "        return ' '.join(token for token in tokens if token not in self.special_tokens)\n",
    "\n",
    "    def remove_special_tokens(self, text: str) -> str:\n",
    "        return re.sub(r\"<(bos|eos|unk|pad)>\", \"\", text)"
   ],
   "id": "26f1be314d70355",
   "outputs": [],
   "execution_count": 129
  },
  {
   "metadata": {},
   "cell_type": "markdown",
   "source": "При 2000 словах в словаре достигается приемлемое соотношение определенных и unk токенов, чтобы модель нормально обучалась",
   "id": "6c6096b20b5cb0a4"
  },
  {
   "metadata": {
    "ExecuteTime": {
     "end_time": "2024-12-05T19:49:09.486503500Z",
     "start_time": "2024-12-04T23:02:48.578344Z"
    }
   },
   "cell_type": "code",
   "source": [
    "adv_tokenizer = AdvancedTokenizer(vocab_size=2000)\n",
    "adv_tokenizer.build_vocab(cut_text)\n",
    "adv_dataset = JokesDataset(adv_tokenizer, cut_text, max_len)\n",
    "adv_dataloader = DataLoader(adv_dataset, batch_size=32, shuffle=True)"
   ],
   "id": "ce82be406e5b4808",
   "outputs": [],
   "execution_count": 131
  },
  {
   "metadata": {
    "ExecuteTime": {
     "end_time": "2024-12-05T19:49:09.488499Z",
     "start_time": "2024-12-04T23:10:29.650575Z"
    }
   },
   "cell_type": "code",
   "source": [
    "print(cut_text[100])\n",
    "print(adv_tokenizer.encode(cut_text[100]))\n",
    "print(cut_text[200])\n",
    "print(adv_tokenizer.encode(cut_text[200]))"
   ],
   "id": "9784520a5f07480d",
   "outputs": [
    {
     "name": "stdout",
     "output_type": "stream",
     "text": [
      "Святая инквизиция спросила Галилея:- Солнце вращается вокруг Земли или Земля вокруг Солнца?А он им ответил уклончиво:- Идите вы на х@й...\n",
      "[2, 547, 770, 50, 771, 772, 754, 773, 752, 752, 773, 772, 254, 774, 269, 413, 775, 3]\n",
      "Если природа позаботится о себе, то люди исчезнут.\n",
      "[2, 1361, 1362, 181, 1363, 3]\n"
     ]
    }
   ],
   "execution_count": 132
  },
  {
   "metadata": {
    "ExecuteTime": {
     "end_time": "2024-12-05T19:49:09.489495400Z",
     "start_time": "2024-12-04T23:10:29.873144Z"
    }
   },
   "cell_type": "code",
   "source": [
    "for batch_idx, (padded_sequences, lengths) in enumerate(adv_dataloader):\n",
    "    print(f\"Batch {batch_idx + 1}\")\n",
    "    print(\"Padded Sequences:\")\n",
    "    print(padded_sequences)\n",
    "    print(\"Lengths:\")\n",
    "    print(lengths)\n",
    "    break"
   ],
   "id": "e98eeabff4ac3eb0",
   "outputs": [
    {
     "name": "stdout",
     "output_type": "stream",
     "text": [
      "Batch 1\n",
      "Padded Sequences:\n",
      "tensor([[   2,  508,  203,  ...,    0,    0,    0],\n",
      "        [   2,  973,    1,  ...,    0,    0,    0],\n",
      "        [   2,  120,  456,  ...,    0,    0,    0],\n",
      "        ...,\n",
      "        [   2,  550,  399,  ...,    0,    0,    0],\n",
      "        [   2, 1488,    1,  ...,    0,    0,    0],\n",
      "        [   2,    1, 1076,  ...,    0,    0,    0]])\n",
      "Lengths:\n",
      "tensor([350, 350, 350, 350, 350, 350, 350, 350, 350, 350, 350, 350, 350, 350,\n",
      "        350, 350, 350, 350, 350, 350, 350, 350, 350, 350, 350, 350, 350, 350,\n",
      "        350, 350, 350, 350])\n"
     ]
    }
   ],
   "execution_count": 133
  },
  {
   "metadata": {
    "ExecuteTime": {
     "end_time": "2024-12-05T19:49:09.490493Z",
     "start_time": "2024-12-04T23:10:30.001009Z"
    }
   },
   "cell_type": "code",
   "source": [
    "adv_model = CharRNN(adv_tokenizer, n_hidden, n_layers, drop_prob, max_len)\n",
    "adv_model.to('cpu')\n",
    "criterion = nn.CrossEntropyLoss()\n",
    "optimizer = torch.optim.Adam(adv_model.parameters(), lr=lr)"
   ],
   "id": "325a3ea7b8302ac",
   "outputs": [],
   "execution_count": 134
  },
  {
   "metadata": {
    "ExecuteTime": {
     "end_time": "2024-12-05T19:49:09.491491600Z",
     "start_time": "2024-12-04T23:10:30.108403Z"
    }
   },
   "cell_type": "code",
   "source": "adv_model.inference('Новый анекдот: ')",
   "id": "bd30d44a58d52d62",
   "outputs": [
    {
     "data": {
      "text/plain": [
       "'нов дискет примут бабк феврал внедрен готовл презерватив идут клад задремлеш описа секунд лежа солнц шел прощ человек евр команд нож иллюз еб коп соответствова син реклам прост срат люб твар период лю дефиц мно течен дума платон техник игрист парламентск красн твар домашн медал осторожн позабот лежач телефон невыносим увернут прин нюха аналог наивысш пылесос нужн полгод разнообразн поменя набира ветера осуд владельц период заполн клуб выдвига должност загоревш ситуац палец хоч осторожн сволоч доказа дольш евросоюз зап пап маск поступ пожен подписа кирилл сам центр питан улета трансвестит банк этик ищут сожален членов берут министр совещан приход жестк сплю твор гряз заботлив болта собра вышел сутул пода прогресс вперед угол смотр ман легч муж дым пешеход перепорн гном еб зна козл скаж сегодняшн денек фил посоветуеш конча футбольн отд триллион доверя привоз крайн окружа мог долб наивысш уверен куч глуп назад предсказан нотариальн электрон молок вер подскаж лихтенштейн времен голов оказа туалет замен труб солнц стреля московск попк виноват триллион макияж театральн магнитн изолятор хоч электрошокер перспектив мем симпатич короч масочн друз истерик перееха щас благодарн жестк эпох пожен переписа конкуренц министр осуд команд номер патрончик совещан обьявлен достига палат двенадца весел смотр дума виж раздел винд передач платон наимен подписа незатушен двух windows прода состоян неудач соучастник сплошн электрон мгновен апарт щечк чирик пошл коробк нем одел богат преступник наимен гибдд средств продума угол культурн котор спат содержан африканск фейсбук условк наклон химкинск идиотк памперс вперед врем яш знаком мам охран 2020 просьб эпох вход килограмм зеленск команд требован блюстител лю соскуч космос давн крайн рак драм закр успева стро выйдет нам нежн подсудим важн угодн закрыва бабк слуша пользовател привык побо иллюстрац дне слов крик пирамид оказа час команд засуд выйдет связ горяч спат оптик жизн дво извин спрашива смота сошл газет ушл бел коп посет кана остыва чист денег провод лаке надева жертв щедр так ввод пошл сыночек сайт клад бл предлож протерет обнов занима толк никак момент поссор карман сих псак кур прослужат посоветует пом четырех реклам выкрикиван бо отлича мог лес маршрут хомяк обсужда комп лент тянет стира сажа соцсет'"
      ]
     },
     "execution_count": 135,
     "metadata": {},
     "output_type": "execute_result"
    }
   ],
   "execution_count": 135
  },
  {
   "metadata": {
    "ExecuteTime": {
     "end_time": "2024-12-05T19:49:09.527396200Z",
     "start_time": "2024-12-04T23:10:30.572952Z"
    }
   },
   "cell_type": "code",
   "source": [
    "losses = train(adv_model, adv_dataloader, criterion, optimizer, model_path='adv_rnn.pt')\n",
    "plot_losses(losses)"
   ],
   "id": "1f8f330e3fe953ef",
   "outputs": [
    {
     "name": "stdout",
     "output_type": "stream",
     "text": [
      "Model: <class '__main__.CharRNN'>, Tokenizer: <class '__main__.AdvancedTokenizer'>\n",
      "Epoch 1/5 - Loss: 0.149734\n",
      "Epoch 2/5 - Loss: 0.135074\n",
      "Epoch 3/5 - Loss: 0.134748\n",
      "Epoch 4/5 - Loss: 0.134549\n",
      "Epoch 5/5 - Loss: 0.134988\n"
     ]
    },
    {
     "data": {
      "text/plain": [
       "<Figure size 640x480 with 1 Axes>"
      ],
      "image/png": "[encoded data removed]"
     },
     "metadata": {},
     "output_type": "display_data"
    }
   ],
   "execution_count": 136
  },
  {
   "metadata": {
    "ExecuteTime": {
     "end_time": "2024-12-05T19:49:09.528391600Z",
     "start_time": "2024-12-05T03:54:50.290301Z"
    }
   },
   "cell_type": "code",
   "source": "[adv_model.inference(\"\") for _ in range(10)]",
   "id": "94c6dd58f3a0f3ae",
   "outputs": [
    {
     "data": {
      "text/plain": [
       "'нов'"
      ]
     },
     "execution_count": 137,
     "metadata": {},
     "output_type": "execute_result"
    }
   ],
   "execution_count": 137
  },
  {
   "metadata": {
    "ExecuteTime": {
     "end_time": "2024-12-05T19:49:09.529389300Z",
     "start_time": "2024-12-05T03:54:55.091296Z"
    }
   },
   "cell_type": "code",
   "source": [
    "adv_model_custom = CharRNN_custom(adv_tokenizer, n_hidden, drop_prob, max_len)\n",
    "adv_model_custom.to('cpu')\n",
    "criterion = nn.CrossEntropyLoss()\n",
    "optimizer = torch.optim.Adam(adv_model_custom.parameters(), lr=lr)"
   ],
   "id": "a5e4fb267b52396f",
   "outputs": [],
   "execution_count": 139
  },
  {
   "metadata": {
    "ExecuteTime": {
     "end_time": "2024-12-05T19:49:09.530387400Z",
     "start_time": "2024-12-05T03:54:55.144715Z"
    }
   },
   "cell_type": "code",
   "source": "adv_model_custom.inference('')",
   "id": "13baf8b1d702fa35",
   "outputs": [
    {
     "data": {
      "text/plain": [
       "'нов стрельб госуслуг казин вернул пространств разнесл перееха недобросовестн убьют рно дат прид конкурент незатушен сложн окажут срок пор случа сбега разб этик стереотип сбер фельдшер пригроз труд дубинк бокс детьм примет недавн раскр сдал резюм темн магазин напада действова пришл синяк ежегодн дал ковид вложен ве лежа вызов бесполетн роспотребнадзор сладост пойм tiktok квитанц скаж призва протест истеричк страшн лайка помещен рук иуд посмотр жева создан преподнест талант весн владельц дефиц добровольц вес масс хитрост здоров глючн следова берег показыва вес справ забудет визит лежа чаян стен худоб юношеск науч телепорт русск вызва камен может клавиш сесс управленческ обучен дает обогна пет кладут куп игра рубл продаж огромн блин депутат дет зим мозг проход вкусн лампочк красот пешеход завтрак очк пив все клевет почт повяза некотор назад авт чест подскаж приобщ бассейн трилог игнор обхож нуж псак крайн фильм компенсац систем настоя призва подарк пожар мил привык шикарн бордел присво потеря умерет сша зарабатыва настольк обезьян бабк отлич глупост описа сам пыта зим прин ведр холодильник диет расслед слухов раньш достига телефон потреблен взят переулок пит плох заяв постро абраш идиотк дол говн лыж реставрац программ присво бед совет 3 дофамин беруш но центральн прост массов электроник использова особен наверн доста называ знач кем создан шавух бнул переписа шахматист уб перепута худоб удив лозунг приемн умер круг спрашива намордник врем россиян будет познер нежн выруб вспомина познер лыж ебл кассир подарок бесконечн обычн здоров заправля телефон расправосуд штраф наход вошел дешевет говор строг степен 3 момент называ сутул побежда твиттер объезд зоопарк бнул чиновник касочн бант козел замужеств глухонем шавух сдела джеймс электроник ипотек переполнен сын накорм еб метеор крик сайт масочн ответ запомн суд серотонин закрыт молод машин прост владимир удовлетворен переулок объективн особен подав windows газов успех аналог офиген путинск длил чаян пейс неявк управля добыва газет кида муч ваш иска мат владимир стро кита окружа скольк доста нам помощ заботлив съемк груст снял эпицентр пост песк рабоч платон воздерж понедельник куплен дне 10 страшненьк сковородк особен прошл отжа слав сраз богат поуч употребля фактическ союз выгулив отдельн стрельб обед клуб фсо привел знач'"
      ]
     },
     "execution_count": 140,
     "metadata": {},
     "output_type": "execute_result"
    }
   ],
   "execution_count": 140
  },
  {
   "metadata": {
    "ExecuteTime": {
     "end_time": "2024-12-05T19:49:09.532379700Z",
     "start_time": "2024-12-05T03:54:55.420468Z"
    }
   },
   "cell_type": "code",
   "source": [
    "losses = train(adv_model_custom, adv_dataloader, criterion, optimizer, model_path='adv_rnn_custom.pt')\n",
    "plot_losses(losses)"
   ],
   "id": "12d9a97257826b04",
   "outputs": [
    {
     "name": "stdout",
     "output_type": "stream",
     "text": [
      "Model: <class '__main__.CharRNN_custom'>, Tokenizer: <class '__main__.AdvancedTokenizer'>\n",
      "Epoch 1/5 - Loss: 0.192925\n",
      "Epoch 2/5 - Loss: 0.184152\n",
      "Epoch 3/5 - Loss: 0.184166\n",
      "Epoch 4/5 - Loss: 0.184224\n",
      "Epoch 5/5 - Loss: 0.184255\n"
     ]
    },
    {
     "data": {
      "text/plain": [
       "<Figure size 640x480 with 1 Axes>"
      ],
      "image/png": "[encoded data removed]"
     },
     "metadata": {},
     "output_type": "display_data"
    }
   ],
   "execution_count": 141
  },
  {
   "metadata": {
    "ExecuteTime": {
     "end_time": "2024-12-05T19:49:09.542354500Z",
     "start_time": "2024-12-05T06:29:49.979007Z"
    }
   },
   "cell_type": "code",
   "source": "[adv_model_custom.inference(\"\") for _ in range(10)]",
   "id": "85d2989c342892ff",
   "outputs": [
    {
     "data": {
      "text/plain": [
       "['прост пуст',\n",
       " 'школ муж депутат эт приход',\n",
       " 'труд гор ход шест',\n",
       " 'прыга утр говор буд родител действ',\n",
       " '',\n",
       " 'доктор прошл',\n",
       " 'подъезд пап дом рубл вод',\n",
       " 'женщин',\n",
       " 'перв',\n",
       " 'доктор вечер']"
      ]
     },
     "execution_count": 143,
     "metadata": {},
     "output_type": "execute_result"
    }
   ],
   "execution_count": 143
  },
  {
   "metadata": {
    "ExecuteTime": {
     "end_time": "2024-12-05T19:49:09.543352Z",
     "start_time": "2024-12-05T06:29:51.258475Z"
    }
   },
   "cell_type": "code",
   "source": [
    "class GRUCell_custom(nn.Module):\n",
    "    def __init__(self, input_size, hidden_size):\n",
    "        super().__init__()\n",
    "        self.input_size = input_size\n",
    "        self.hidden_size = hidden_size\n",
    "\n",
    "        self.W_r = nn.Parameter(torch.randn(hidden_size, input_size + hidden_size))  # reset gate\n",
    "        self.W_z = nn.Parameter(torch.randn(hidden_size, input_size + hidden_size))  # update gate\n",
    "        self.W_h = nn.Parameter(torch.randn(hidden_size, input_size + hidden_size))  # candidate hidden state\n",
    "\n",
    "        self.b_r = nn.Parameter(torch.zeros(hidden_size))  # reset gate\n",
    "        self.b_z = nn.Parameter(torch.zeros(hidden_size))  # update gate\n",
    "        self.b_h = nn.Parameter(torch.zeros(hidden_size))  # candidate hidden state\n",
    "\n",
    "    def forward(self, x, h_prev):\n",
    "        combined = torch.cat((x, h_prev), dim=1)\n",
    "\n",
    "        r_t = torch.sigmoid(F.linear(combined, self.W_r, self.b_r))  # reset gate\n",
    "        z_t = torch.sigmoid(F.linear(combined, self.W_z, self.b_z))  # update gate\n",
    "\n",
    "        # candidate hidden state\n",
    "        h_candidate = torch.tanh(F.linear(torch.cat((r_t * h_prev, x), dim=1), self.W_h, self.b_h))\n",
    "\n",
    "        # hidden state\n",
    "        h_t = (1 - z_t) * h_prev + z_t * h_candidate\n",
    "\n",
    "        return h_t\n",
    "\n",
    "class CharRNN_custom_GRU(nn.Module):\n",
    "    def __init__(\n",
    "        self,\n",
    "        tokenizer: Tokenizer,\n",
    "        hidden_dim: int = 256,\n",
    "        num_layers: int = 2,\n",
    "        drop_prob: float = 0.5,\n",
    "        max_len: int = 512,\n",
    "    ) -> None:\n",
    "        super().__init__()\n",
    "        self.tokenizer = tokenizer\n",
    "        self.vocab_size = tokenizer.vocab_size\n",
    "        self.hidden_dim = hidden_dim\n",
    "        self.n_layers = n_layers\n",
    "        self.max_len = max_len\n",
    "\n",
    "        self.gru_cells = nn.ModuleList([GRUCell_custom(self.vocab_size, self.hidden_dim)])\n",
    "\n",
    "        for _ in range(1, n_layers):\n",
    "            self.gru_cells.append(GRUCell_custom(self.hidden_dim, self.hidden_dim))\n",
    "\n",
    "        self.dropout = nn.Dropout(drop_prob)\n",
    "        self.fc = nn.Linear(self.hidden_dim, self.vocab_size)\n",
    "\n",
    "    def forward(self, x: torch.Tensor, lengths: torch.Tensor):\n",
    "        batch_size, seq_len = x.shape\n",
    "        x_one_hot = nn.functional.one_hot(x, num_classes=self.vocab_size).float()\n",
    "\n",
    "        hidden = self.init_hidden(batch_size, x.device)\n",
    "\n",
    "        outputs = []\n",
    "        for t in range(seq_len):\n",
    "            x_t = x_one_hot[:, t, :]\n",
    "            for layer in range(self.n_layers):\n",
    "                h_prev = hidden[layer]\n",
    "                h_new = self.gru_cells[layer](x_t, h_prev)\n",
    "                h_new = self.dropout(h_new)\n",
    "                hidden[layer] = h_new\n",
    "                x_t = h_new\n",
    "\n",
    "            outputs.append(h_new)\n",
    "\n",
    "        outputs = torch.stack(outputs, dim=1)\n",
    "        logits = self.fc(outputs)\n",
    "\n",
    "        return logits, hidden\n",
    "\n",
    "    def init_hidden(self, batch_size, device):\n",
    "        return [torch.zeros(batch_size, self.hidden_dim, device=device) for _ in range(self.n_layers)]\n",
    "\n",
    "    def inference(self, prefix='', device=\"cpu\"):\n",
    "        self.eval()\n",
    "        tokens = torch.tensor(self.tokenizer.encode(prefix), device=device).unsqueeze(0)\n",
    "        hidden = self.init_hidden(1, device)\n",
    "        \n",
    "        with torch.no_grad():\n",
    "            for t in range(tokens.shape[1]):\n",
    "                x_t = tokens[:, t]\n",
    "                x_one_hot = nn.functional.one_hot(x_t, num_classes=self.vocab_size).float()\n",
    "                for layer in range(self.n_layers):\n",
    "                    hidden[layer] = self.gru_cells[layer](x_one_hot, hidden[layer])\n",
    "    \n",
    "        generated_sequence = tokens.clone()\n",
    "        with torch.no_grad():\n",
    "            for _ in range(self.max_len - tokens.shape[1]):\n",
    "                x_one_hot = nn.functional.one_hot(generated_sequence[:, -1], num_classes=self.vocab_size).float()\n",
    "                for layer in range(self.n_layers):\n",
    "                    hidden[layer] = self.gru_cells[layer](x_one_hot, hidden[layer])\n",
    "                logits = self.fc(hidden[-1])\n",
    "                probs = nn.functional.softmax(logits, dim=-1)\n",
    "                new_token = Categorical(probs).sample().unsqueeze(0)\n",
    "                generated_sequence = torch.cat([generated_sequence, new_token], dim=1)\n",
    "                if new_token.item() == self.tokenizer.encode_symbol('<eos>'):\n",
    "                    break\n",
    "\n",
    "        generated_text = self.tokenizer.decode(generated_sequence.squeeze(0).tolist())\n",
    "        return self.tokenizer.remove_special_tokens(generated_text)"
   ],
   "id": "6f4c87a720131eca",
   "outputs": [],
   "execution_count": 144
  },
  {
   "metadata": {
    "ExecuteTime": {
     "end_time": "2024-12-05T19:49:09.544348400Z",
     "start_time": "2024-12-05T06:29:51.319869Z"
    }
   },
   "cell_type": "code",
   "source": [
    "adv_model_custom_gru = CharRNN_custom_GRU(adv_tokenizer, n_hidden, n_layers, drop_prob, max_len)\n",
    "adv_model_custom_gru.to('cpu')\n",
    "criterion = nn.CrossEntropyLoss()\n",
    "optimizer = torch.optim.Adam(adv_model_custom_gru.parameters(), lr=lr)"
   ],
   "id": "addb5824d5df95ee",
   "outputs": [],
   "execution_count": 145
  },
  {
   "metadata": {
    "ExecuteTime": {
     "end_time": "2024-12-05T19:49:09.545348700Z",
     "start_time": "2024-12-05T06:29:51.352627Z"
    }
   },
   "cell_type": "code",
   "source": "adv_model_custom_gru.inference('')",
   "id": "81d69536fa8c4b87",
   "outputs": [
    {
     "data": {
      "text/plain": [
       "'нов бед нрав потряса мир главн сажа недавн советск наточ секунд доста недостаток макарон удочк хорош момент подсудим спит окружа собствен пианин полбед жертвоприношен заскакива ждал идт лидер двух помог дал чугун президент станьт длин бурчан преступник перепорн конч прода ээм обеща драм плох толк иллюз федеральн здравств окружа юношеск состоян рухнул рас минск эксплуатир платеж 17 скорожралк мор программ солнц отлич кида баб достаточн отлич стриптиз найдет обрадова комментатор ухрюпинск уклончив весел уклончив реальн чита тонк подверга легк должност гнил соб пригроз квартплат примут нашел нафиг срат проработа угол ничос сексуальн рас рад тещ боя проработа дает ноутбук об эротик имуществ паца дофамин 154 вин компьютерщик преступник бейт поправля проигра круг садистск щечк маш равн короч капиталист обрадова растерян немн й неудач ограб ид комитет жаворонк привычк правительств ту радост вин происшеств рост лист пошел могут лентя потеря примет называ умн идет дозовеш ужас испуга трога извращенств начисл чаян демократизатор ебл просмотр стабильн действительн чест отошел переворот обьявлен 2 должностн чест гитлер подорожа вибратор компьютер пив позавчерашн мехов парикмахерск дум программ сво мэр поднажм газов западл ребят отдохнут спам толк крестьянск предложен революц щас использова обьясня спаса сегодн стольк присво растерян наград кин машинист оберег яш орет красив заседан ошиба член ипотек зеленск увидел найт сует час хрен овощ бесконечн нам исчезл хлеб рас легализова то условк нормальн ежегодн оказыва морожен марьиван мишк сдела компенсац мишк аппарат паца прекрат территор ахренет отвеча протест гражда беремен групп пульт 3 галиле квитанц брюк позволя баб пляжн абр счаст комнат удивительн юношеск тяжел сестр алекс звонк матч прода переименова круг старик станц перешедш генерал компьютер уста рабоч дворцов бутылк дворцов тещ одева сильн мат лежа шершав жужжан точн мальчик дел баб настоя масочн объявлен обеща успешн статус тв управленческ работа сегодн бал фараон миллиардер государ узна нюха ясн наден выброс нетрезв ждеш русск союз поздрав прав недовольн лидер дал хочеш шахматистк опрокинул покур дорог книг чиновник обрадова выруб пол нем любл ролик й скандал обща должностн жду кишечн успешн хлеб муз завещан шахматист цен недостаток подума переход колен отказа пропитан урон исчезл последн суббот понима польз жаворонк пешеходн счастлив'"
      ]
     },
     "execution_count": 146,
     "metadata": {},
     "output_type": "execute_result"
    }
   ],
   "execution_count": 146
  },
  {
   "metadata": {
    "ExecuteTime": {
     "end_time": "2024-12-05T19:49:09.547340800Z",
     "start_time": "2024-12-05T06:29:51.668320Z"
    }
   },
   "cell_type": "code",
   "source": [
    "losses = train(adv_model_custom_gru, adv_dataloader, criterion, optimizer, model_path='adv_rnn_custom_gru.pt')\n",
    "plot_losses(losses)"
   ],
   "id": "508347e4b0af186",
   "outputs": [
    {
     "name": "stdout",
     "output_type": "stream",
     "text": [
      "Model: <class '__main__.CharRNN_custom_LSTM'>, Tokenizer: <class '__main__.AdvancedTokenizer'>\n",
      "Epoch 1/5 - Loss: 0.162613\n",
      "Epoch 2/5 - Loss: 0.152815\n",
      "Epoch 3/5 - Loss: 0.151962\n",
      "Epoch 4/5 - Loss: 0.170121\n",
      "Epoch 5/5 - Loss: 0.281438\n"
     ]
    },
    {
     "data": {
      "text/plain": [
       "<Figure size 640x480 with 1 Axes>"
      ],
      "image/png": "[encoded data removed]"
     },
     "metadata": {},
     "output_type": "display_data"
    }
   ],
   "execution_count": 147
  },
  {
   "metadata": {
    "ExecuteTime": {
     "end_time": "2024-12-05T19:49:09.565291700Z",
     "start_time": "2024-12-05T09:50:52.192147Z"
    }
   },
   "cell_type": "code",
   "source": "[adv_model_custom_gru.inference(\"\") for _ in range(10)]",
   "id": "4dfa7689e2da7f74",
   "outputs": [
    {
     "data": {
      "text/plain": [
       "['кирилл человек толк',\n",
       " 'муж уч сто люб',\n",
       " 'так город друг прям мужчин ве',\n",
       " 'член отлича',\n",
       " 'вчер очеред эт год врем будущ',\n",
       " 'счет зим зим',\n",
       " 'девушк доктор смотр велотренажер равн те люб',\n",
       " 'врем рассказа сказа конец мальчик',\n",
       " 'одн вовс мужчин пар',\n",
       " '']"
      ]
     },
     "execution_count": 149,
     "metadata": {},
     "output_type": "execute_result"
    }
   ],
   "execution_count": 149
  }
 ],
 "metadata": {
  "kernelspec": {
   "display_name": "Python 3 (ipykernel)",
   "language": "python",
   "name": "python3"
  },
  "language_info": {
   "codemirror_mode": {
    "name": "ipython",
    "version": 3
   },
   "file_extension": ".py",
   "mimetype": "text/x-python",
   "name": "python",
   "nbconvert_exporter": "python",
   "pygments_lexer": "ipython3",
   "version": "3.10.15"
  }
 },
 "nbformat": 4,
 "nbformat_minor": 5
}
