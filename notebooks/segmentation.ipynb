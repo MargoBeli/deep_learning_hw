{
 "cells": [
  {
   "cell_type": "markdown",
   "id": "44a2d824-1692-4c75-b96b-e9fed55ba330",
   "metadata": {},
   "source": [
    "# Сегментация\n",
    "В этот раз мы рассмотрим чуть менее стандартную задачу - сегментации изображений.\n"
   ]
  },
  {
   "cell_type": "code",
   "id": "f3e4742d-cb19-40cf-99d0-ff48ecafd55a",
   "metadata": {
    "ExecuteTime": {
     "end_time": "2024-11-02T08:23:23.841051Z",
     "start_time": "2024-11-02T08:23:15.225848Z"
    }
   },
   "source": [
    "import math\n",
    "import os\n",
    "import warnings\n",
    "from typing import Dict, List, Tuple\n",
    "\n",
    "import albumentations as A\n",
    "import cv2\n",
    "import numpy as np\n",
    "import random\n",
    "import torch\n",
    "import tqdm\n",
    "import wandb\n",
    "from PIL import Image\n",
    "from torch import nn\n",
    "\n",
    "import matplotlib.pyplot as plt\n",
    "import torchmetrics\n",
    "from torch.utils.data import DataLoader, Dataset\n",
    "import torch.nn.functional as F\n",
    "from torchvision import transforms\n",
    "import albumentations.pytorch\n",
    "from glob import glob\n",
    "from torch.utils.data import random_split, Dataset, DataLoader\n",
    "from albumentations.pytorch import ToTensorV2\n",
    "\n",
    "\n",
    "warnings.filterwarnings(\"ignore\")"
   ],
   "outputs": [],
   "execution_count": 1
  },
  {
   "metadata": {
    "ExecuteTime": {
     "end_time": "2024-11-02T08:28:45.266661Z",
     "start_time": "2024-11-02T08:23:23.874706Z"
    }
   },
   "cell_type": "code",
   "outputs": [
    {
     "name": "stdout",
     "output_type": "stream",
     "text": [
      "Downloading from https://www.kaggle.com/api/v1/datasets/download/kooaslansefat/uav-segmentation-aeroscapes?dataset_version_number=1...\n"
     ]
    },
    {
     "name": "stderr",
     "output_type": "stream",
     "text": [
      "100%|██████████| 753M/753M [05:04<00:00, 2.60MB/s] "
     ]
    },
    {
     "name": "stdout",
     "output_type": "stream",
     "text": [
      "Extracting files...\n"
     ]
    },
    {
     "name": "stderr",
     "output_type": "stream",
     "text": [
      "\n"
     ]
    }
   ],
   "execution_count": 2,
   "source": [
    "import kagglehub\n",
    "\n",
    "# Download latest version\n",
    "path = kagglehub.dataset_download(\"kooaslansefat/uav-segmentation-aeroscapes\")"
   ],
   "id": "67b11dd4c35a679d"
  },
  {
   "metadata": {
    "ExecuteTime": {
     "end_time": "2024-11-02T08:40:30.454444Z",
     "start_time": "2024-11-02T08:40:30.447362Z"
    }
   },
   "cell_type": "code",
   "outputs": [
    {
     "name": "stdout",
     "output_type": "stream",
     "text": [
      "C:/Users/draco/.cache/kagglehub/datasets/kooaslansefat/uav-segmentation-aeroscapes/versions/1/aeroscapes\n"
     ]
    }
   ],
   "execution_count": 8,
   "source": [
    "base_dir = \"C:/Users/draco/.cache/kagglehub/datasets/kooaslansefat/uav-segmentation-aeroscapes/versions/1/aeroscapes\"\n",
    "print(base_dir)\n",
    "device = \"cuda\" if torch.cuda.is_available() else \"cpu\""
   ],
   "id": "19f4869b-6e3e-4052-8f0a-1a551b3618f6"
  },
  {
   "metadata": {},
   "cell_type": "markdown",
   "source": "Для начала рассмотрим датасет изображений, полученных с дрона на высоте от 5 до 50 метров.",
   "id": "65dca0f3-2e65-42e5-b911-c4dc52f5b9db"
  },
  {
   "metadata": {
    "ExecuteTime": {
     "end_time": "2024-11-02T08:40:32.722279Z",
     "start_time": "2024-11-02T08:40:32.714487Z"
    }
   },
   "cell_type": "code",
   "outputs": [],
   "execution_count": 9,
   "source": [
    "LABEL_NAMES = ['Background', 'Person', 'Bike', 'Car', 'Drone', 'Boat', 'Animal', 'Obstacle', 'Construction', 'Vegetation', 'Road', 'Sky']\n",
    "\n",
    "COLOR_MAPPING = {\n",
    "    (0, 0, 0): 0,  # Background\n",
    "    (192, 128, 128): 1,      # Person\n",
    "    (0, 128, 0): 2,          # Bike\n",
    "    (128, 128, 128): 3,      # Car\n",
    "    (128, 0, 0): 4,          # Drone\n",
    "    (0, 0, 128): 5,          # Boat\n",
    "    (192, 0, 128): 6,        # Animal\n",
    "    (192, 0, 0): 7,          # Obstacle\n",
    "    (192, 128, 0): 8,        # Construction\n",
    "    (0, 64, 0): 9,           # Vegetation\n",
    "    (128, 128, 0): 10,       # Road\n",
    "    (0, 128, 128): 11,       # Sky\n",
    "}\n"
   ],
   "id": "095c42cd-e15b-4a8f-8a1a-c10f04823853"
  },
  {
   "metadata": {},
   "cell_type": "markdown",
   "source": [
    "Сегментация - это та же классификация. Разница с обычным кейсом лишь в том, что классифицируется каждый пиксель изображенияю Поэтому вместо приятной структуры с папками нам придется вернуться к рукописным датасетам.\n",
    "\n",
    "Создадим датасет: он будет читать файлы из папок с изображениями и масками. Маски трехмерные, но мы знаем их маппинг в классы. Так что легко можно поменять маску на номер желаемого класса. Остальное стандартно - трансформируем семпл, возвращаем результат.\n",
    "\n",
    "Сейчас немного усложним задачу, будем читать из папки Visualizations, а не SegmentationMasks (но вы можете и оттуда сразу читать, конечно)"
   ],
   "id": "f17b4d2b-6f07-4a43-952d-973b0cdcf3c3"
  },
  {
   "metadata": {
    "ExecuteTime": {
     "end_time": "2024-11-02T09:08:44.428963Z",
     "start_time": "2024-11-02T09:08:44.413971Z"
    }
   },
   "cell_type": "code",
   "outputs": [],
   "execution_count": 46,
   "source": [
    "class AerialSegmentationDataset(Dataset):\n",
    "    def __init__(self, root, data = \"trn\", transformations = None):\n",
    "        files = open(f\"{root}/ImageSets/{data}.txt\", \"r\").read().split(\"\\n\")\n",
    "        self.im_paths, self.gt_paths = self.get_data_paths(root = root, files = files) \n",
    "        self.transformations = transformations\n",
    "        self.n_cls = 11\n",
    "        assert len(self.im_paths) == len(self.gt_paths)\n",
    "        \n",
    "    def __len__(self): \n",
    "        return len(self.im_paths)\n",
    "\n",
    "    def __getitem__(self, idx):\n",
    "        im = self.read_image(self.im_paths[idx])\n",
    "        mask = cv2.imread(self.gt_paths[idx], cv2.IMREAD_COLOR)\n",
    "        mask = convert_mask(mask)\n",
    "        if self.transformations: \n",
    "            transformed = self.transformations(image=im, mask=mask)\n",
    "            im, mask = transformed[\"image\"], transformed[\"mask\"]\n",
    "        return im, mask\n",
    "        \n",
    "    def get_data_paths(self, root, files) -> tuple[list[str], list[str]]:\n",
    "        images = [\n",
    "            path for path in sorted(glob(f\"{root}/JPEGImages/*.jpg\")) if self.get_fname(path) in files]\n",
    "        masks = [\n",
    "            path for path in sorted(glob(f\"{root}/Visualizations/*.png\")) if self.get_fname(path) in files]\n",
    "        print(f\"Found {len(images)} images and {len(masks)} masks.\")\n",
    "        return images, masks\n",
    "\n",
    "       \n",
    "    def get_fname(self, path): \n",
    "        return os.path.splitext(os.path.basename(path))[0]\n",
    "\n",
    "    def read_image(self, path): \n",
    "        image = cv2.imread(path, cv2.IMREAD_COLOR)\n",
    "        image = cv2.cvtColor(image, cv2.COLOR_BGR2RGB)\n",
    "        # Convert to float32 and normalize\n",
    "        image = image.astype(np.float32) / 255.0\n",
    "        return image\n",
    "\n",
    "\n",
    "def convert_mask(mask_rgb):\n",
    "    mask = np.zeros((mask_rgb.shape[0], mask_rgb.shape[1]), dtype=np.uint8)\n",
    "    for rgb, idx in COLOR_MAPPING.items():\n",
    "        mask[(mask_rgb == rgb).all(axis=2)] = idx\n",
    "    return mask\n",
    " "
   ],
   "id": "6eb41de1-e050-42cd-9bbd-cc30671226ac"
  },
  {
   "metadata": {},
   "cell_type": "markdown",
   "source": "Создадим инстанс датасета для визуализации. ",
   "id": "be7b0aa9-3050-4201-a021-caad827a495d"
  },
  {
   "metadata": {
    "ExecuteTime": {
     "end_time": "2024-11-02T09:08:45.964973Z",
     "start_time": "2024-11-02T09:08:45.388347Z"
    }
   },
   "cell_type": "code",
   "outputs": [
    {
     "name": "stdout",
     "output_type": "stream",
     "text": [
      "Found 2621 images and 2621 masks.\n",
      "Found 648 images and 648 masks.\n"
     ]
    }
   ],
   "execution_count": 47,
   "source": [
    "im_h, im_w = 256, 256\n",
    "transformations = A.Compose( [A.Resize(im_h, im_w),ToTensorV2(transpose_mask = True) ])\n",
    "\n",
    "train_dataset = AerialSegmentationDataset(root=base_dir, data=\"trn\", transformations=transformations)\n",
    "test_dataset = AerialSegmentationDataset(root=base_dir, data=\"val\", transformations=transformations)\n",
    "n_cls = train_dataset.n_cls"
   ],
   "id": "d942f51b-b477-43be-b763-5e5d7c562a3e"
  },
  {
   "metadata": {},
   "cell_type": "markdown",
   "source": "Добавим функции для того, чтобы красиво нарисовать наши примеры",
   "id": "1e62e69e-c1f8-4edb-87db-2e09d2af0e89"
  },
  {
   "metadata": {
    "ExecuteTime": {
     "end_time": "2024-11-02T09:08:46.013669Z",
     "start_time": "2024-11-02T09:08:46.004456Z"
    }
   },
   "cell_type": "code",
   "outputs": [],
   "execution_count": 48,
   "source": [
    "def plot(rows, cols, count, im, gt = None, title = \"Original Image\"):\n",
    "    plt.subplot(rows, cols, count)\n",
    "    image = im.squeeze(0).int().permute(1,2,0) if not gt else im.squeeze(0).float()\n",
    "    plt.imshow(image)\n",
    "    plt.axis(\"off\"); plt.title(title)\n",
    "    return count + 1\n",
    "    \n",
    "def visualize(ds, n_ims):\n",
    "    plt.figure(figsize = (25, 20))\n",
    "    rows = n_ims // 4; cols = n_ims // rows\n",
    "    count = 1\n",
    "    indices = [random.randint(0, len(ds)) for _ in range(n_ims)]\n",
    "    for idx, index in enumerate(indices):\n",
    "        if count == n_ims + 1: break\n",
    "        im, gt = ds[index]\n",
    "        # First Plot\n",
    "        count = plot(rows, cols, count, im = im)\n",
    "        # Second Plot\n",
    "        count = plot(rows, cols, count, im = gt, gt = True, title=\"Segmentation mask\")"
   ],
   "id": "f2e087bc-cbfc-43ff-85b5-d610d6c4b10c"
  },
  {
   "metadata": {},
   "cell_type": "markdown",
   "source": "И нарисуем",
   "id": "7943bbf9-ed4e-4c39-838e-2beefeb19c6b"
  },
  {
   "metadata": {
    "ExecuteTime": {
     "end_time": "2024-11-02T09:08:53.735427Z",
     "start_time": "2024-11-02T09:08:47.137550Z"
    }
   },
   "cell_type": "code",
   "outputs": [
    {
     "data": {
      "text/plain": [
       "<Figure size 2500x2000 with 12 Axes>"
      ],
      "image/png": "[encoded data removed]"
     },
     "metadata": {},
     "output_type": "display_data"
    }
   ],
   "execution_count": 49,
   "source": "visualize(train_dataset, 12)",
   "id": "4a1b4514-aec7-4f78-a55d-a9a9a0d611ff"
  },
  {
   "metadata": {},
   "cell_type": "markdown",
   "source": "Дополнительное задание: выведите исходные пары изображение - трехканальная маска",
   "id": "8685a723-2e7b-49a8-a9a7-416a40698b71"
  },
  {
   "metadata": {},
   "cell_type": "markdown",
   "source": [
    "Теперь уже создадим наш датасет, а также разобьем его на трейн-валидацию-тест\n",
    "\n",
    "**Допзадание**: попробуйте еще другие аугментации"
   ],
   "id": "f111051d-e150-49f0-a29f-a98a3a441c74"
  },
  {
   "metadata": {
    "ExecuteTime": {
     "end_time": "2024-11-02T09:08:53.788743Z",
     "start_time": "2024-11-02T09:08:53.775914Z"
    }
   },
   "cell_type": "code",
   "outputs": [
    {
     "name": "stdout",
     "output_type": "stream",
     "text": [
      "\n",
      "There are 2358 number of images in the train set\n",
      "There are 263 number of images in the validation set\n",
      "There are 648 number of images in the test set\n",
      "\n"
     ]
    }
   ],
   "execution_count": 50,
   "source": [
    "mean, std = [0.485, 0.456, 0.406], [0.229, 0.224, 0.225]\n",
    "transformations = A.Compose([\n",
    "    A.Resize(im_h, im_w),\n",
    "    A.augmentations.transforms.Normalize(mean=mean, std=std), \n",
    "    ToTensorV2(transpose_mask=True)\n",
    "])\n",
    "\n",
    "split = [0.9, 0.1]\n",
    "batch_size = 16\n",
    "\n",
    "# Определение длины обучающей и валидационной выборок\n",
    "total_len = len(train_dataset)\n",
    "train_len = int(total_len * split[0])\n",
    "val_len = total_len - train_len  # Остаток идет на валидацию\n",
    "\n",
    "# Data split\n",
    "train_dataset, val_dataset = torch.utils.data.random_split(train_dataset, [train_len, val_len])\n",
    "\n",
    "print(f\"\\nThere are {len(train_dataset)} number of images in the train set\")\n",
    "print(f\"There are {len(val_dataset)} number of images in the validation set\")\n",
    "print(f\"There are {len(test_dataset)} number of images in the test set\\n\")\n",
    "\n",
    "# Get dataloaders\n",
    "train_dataloader = DataLoader(dataset=train_dataset, batch_size=batch_size, shuffle=True)\n",
    "val_dataloader = DataLoader(dataset=val_dataset, batch_size=batch_size, shuffle=False)\n",
    "test_dataloader = DataLoader(dataset=test_dataset, batch_size=1, shuffle=False)\n"
   ],
   "id": "cd742d00-6dc5-49fc-9526-268a1747d5f9"
  },
  {
   "metadata": {},
   "cell_type": "markdown",
   "source": [
    "Теперь создадим нашу архитектуру. Это [UNet](https://arxiv.org/pdf/1505.04597) - одна из базовых архитектур для сегментацию, аналоги которой еще и активно используются в самых разных приложениях.\n",
    "\n",
    "Задание: дополните код, чтобы получить UNet с двумя внутренними блоками. \n",
    "Минимальная задача для слабых компьютеров - максимальное число фичей - 128. В таком случае мы будем использовать только по два блока, а не 4 исходных.\n",
    "\n",
    "Исходная архитектура:\n",
    "![alt_text](../additional_materials/images/u-net-architecture.png)"
   ],
   "id": "66844c2f-9085-49bd-abce-527229463441"
  },
  {
   "metadata": {},
   "cell_type": "markdown",
   "source": [
    "# Как реализовать up-conv?\n",
    "В torch для этого есть nn.TransposeConv2d. \n",
    "На самом деле это не совсем свертка - она берет входные значения и вначале создает что-то вроде буфера, где хранит результаты умножения ядра на вход поэлементно. После того, как все результаты получены, они собираются воедино суммированием (можно посмотреть подробное объяснение [здесь](https://stackoverflow.com/questions/69782823/understanding-the-pytorch-implementation-of-conv2dtranspose):\n",
    "\n",
    "![alt_text](../additional_materials/images/tc1.png)\n",
    "\n",
    "Примеры:\n",
    "![alt_text](../additional_materials/images/tc2.png)\n",
    "\n",
    "![alt_text](../additional_materials/images/tc3.png)\n",
    "\n",
    "![alt_text](../additional_materials/images/tc4.png)\n"
   ],
   "id": "8fa5d2f2-3965-4c46-9e49-350f3c537ec9"
  },
  {
   "metadata": {
    "ExecuteTime": {
     "end_time": "2024-11-02T09:08:53.843908Z",
     "start_time": "2024-11-02T09:08:53.825740Z"
    }
   },
   "cell_type": "code",
   "outputs": [],
   "execution_count": 51,
   "source": [
    "class ConvBlock(nn.Module):\n",
    "    def __init__(self, in_channels: int, out_channels: int):\n",
    "        super().__init__()\n",
    "        self.conv = nn.Sequential(\n",
    "            nn.Conv2d(in_channels, out_channels, kernel_size=3, padding=1),\n",
    "            nn.ReLU(inplace=True),\n",
    "            nn.Conv2d(out_channels, out_channels, kernel_size=3, padding=1),\n",
    "            nn.ReLU(inplace=True),\n",
    "        )\n",
    "\n",
    "    def forward(self, x: torch.Tensor) -> torch.Tensor:\n",
    "        return self.conv(x)\n",
    "\n",
    "class UNet(nn.Module):\n",
    "    def __init__(\n",
    "        self,\n",
    "        in_channels: int = 3,\n",
    "        out_channels: int = 1,\n",
    "        features: List[int] = [32, 64, 128],\n",
    "    ):\n",
    "        super().__init__()\n",
    "        self.down = nn.ModuleList()\n",
    "        self.up = nn.ModuleList()\n",
    "        self.pool = nn.MaxPool2d(kernel_size=2, stride=2)\n",
    "\n",
    "        # Downsampling path\n",
    "        for feature in features:\n",
    "            self.down.append(ConvBlock(in_channels, feature))\n",
    "            in_channels = feature\n",
    "        \n",
    "        # Bottleneck\n",
    "        self.bottleneck = ConvBlock(features[-1], features[-1] * 2)\n",
    "\n",
    "        # Upsampling path\n",
    "        for feature in reversed(features):\n",
    "            self.up.append(nn.ConvTranspose2d(feature * 2, feature, kernel_size=2, stride=2))\n",
    "            self.up.append(ConvBlock(feature * 2, feature))\n",
    "\n",
    "        # Final convolution\n",
    "        self.final_conv = nn.Conv2d(features[0], out_channels, kernel_size=1)\n",
    "\n",
    "    def forward(self, x: torch.Tensor) -> torch.Tensor:\n",
    "        skip_connections = []\n",
    "        \n",
    "        # Downsampling\n",
    "        for down in self.down:\n",
    "            x = down(x)\n",
    "            skip_connections.append(x)  # Store skip connections\n",
    "            x = self.pool(x)\n",
    "\n",
    "        # Bottleneck\n",
    "        x = self.bottleneck(x)\n",
    "        \n",
    "        # Upsampling\n",
    "        skip_connections = skip_connections[::-1]  # Reverse skip connections\n",
    "        for idx in range(0, len(self.up), 2):\n",
    "            x = self.up[idx](x)  # Transpose convolution\n",
    "            skip = skip_connections[idx // 2]  # Get the corresponding skip connection\n",
    "            \n",
    "            # If dimensions do not match, resize\n",
    "            if x.shape != skip.shape:\n",
    "                x = nn.functional.interpolate(x, size=skip.shape[2:], mode='bilinear', align_corners=False)\n",
    "            \n",
    "            concat_skip = torch.cat((skip, x), dim=1)  # Concatenate along channels\n",
    "            x = self.up[idx + 1](concat_skip)  # Call the next ConvBlock\n",
    "        \n",
    "        return self.final_conv(x)\n"
   ],
   "id": "8c823fb1-793b-4b01-b56f-47c49b1e170a"
  },
  {
   "metadata": {},
   "cell_type": "markdown",
   "source": "Создадим модель",
   "id": "e09fac1f-4b3f-4990-9dec-b966b21a2e51"
  },
  {
   "metadata": {
    "ExecuteTime": {
     "end_time": "2024-11-02T09:08:53.914225Z",
     "start_time": "2024-11-02T09:08:53.884129Z"
    }
   },
   "cell_type": "code",
   "outputs": [],
   "execution_count": 52,
   "source": "model = UNet(out_channels=n_cls+1)",
   "id": "2ba4a892-c485-44cd-87f0-fd190f20add9"
  },
  {
   "metadata": {},
   "cell_type": "markdown",
   "source": [
    "Теперь немного подушним с метриками. Для сегментации и детекции они похожи, так как обе задачи требуют определения целевых регионов. Поэтому наиболее естественны метрики, основанные на геометрии.\n",
    "Рассмотрим две: IoU и Dice. \n",
    "![alt_text](../additional_materials/images/metrics.png)\n",
    "\n",
    "Так как у нас задача мультиклассовая, мы должны посчитать эти метрики по классам и усреднить результат.\n",
    "\n",
    "**Задание**: Дополните код, реализовав метрики mIoU и Dice.\n",
    "\n",
    "\n",
    "Для того, чтобы можно было в будущем сочетать наши рукописные метрики и торчовые, напишем обертку, которая хранит в себе словарь со всем метриками сразу. Каждая рукописная должна иметь те же методы, что и torchmetrics.Metric: __call__ и compute()\n"
   ],
   "id": "40a51c37-a9bc-44e2-94e2-ae96a18659b1"
  },
  {
   "metadata": {
    "ExecuteTime": {
     "end_time": "2024-11-02T09:08:54.150043Z",
     "start_time": "2024-11-02T09:08:54.135945Z"
    }
   },
   "cell_type": "code",
   "outputs": [],
   "execution_count": 53,
   "source": [
    "from abc import ABC, abstractmethod\n",
    "from typing import Iterable, Dict\n",
    "\n",
    "class Metric(ABC):\n",
    "    def __init__(self):\n",
    "        self._values = []\n",
    "\n",
    "    def __call__(self, preds: Iterable, targets: Iterable) -> float:\n",
    "        value = self.compute_metric(preds, targets)\n",
    "        self._values.append(value)\n",
    "        return value\n",
    "\n",
    "    @abstractmethod\n",
    "    def compute_metric(self, preds: Iterable, targets: Iterable) -> float:\n",
    "        pass\n",
    "\n",
    "    def compute(self) -> float:\n",
    "        if not self._values:\n",
    "            return 0.0\n",
    "        mean_value = sum(self._values) / len(self._values)\n",
    "        return mean_value\n",
    "\n",
    "    def reset(self):\n",
    "        self._values = []\n",
    "\n",
    "class MetricCollection:\n",
    "    def __init__(self, metrics: Dict[str, Metric | torchmetrics.Metric]):\n",
    "        if not isinstance(metrics, dict):\n",
    "            raise TypeError(\"metrics must be a dictionary of Metric instances.\")\n",
    "        for name, metric in metrics.items():\n",
    "            if not isinstance(metric, Metric) and not isinstance(metric, torchmetrics.Metric):\n",
    "                raise TypeError(\n",
    "                    f\"Value for '{name}' is not an instance of Metric (handmade or torchmetrics).\"\n",
    "                )\n",
    "        self.metrics = metrics\n",
    "\n",
    "    def __call__(self, preds: Iterable, targets: Iterable) -> Dict[str, float]:\n",
    "        computed_values = {}\n",
    "        # Call metrics one by one\n",
    "        for name, metric in self.metrics.items():\n",
    "            computed_values[name] = metric(preds, targets)\n",
    "        return computed_values\n",
    "\n",
    "    def compute(self) -> Dict[str, float]:\n",
    "        return {name: metric.compute() for name, metric in self.metrics.items()}\n",
    "\n",
    "    def reset(self):\n",
    "        for metric in self.metrics.values():\n",
    "            metric.reset()\n"
   ],
   "id": "8311f33b-26f8-47f9-90f3-daaf18622983"
  },
  {
   "metadata": {
    "ExecuteTime": {
     "end_time": "2024-11-02T09:08:54.625625Z",
     "start_time": "2024-11-02T09:08:54.611437Z"
    }
   },
   "cell_type": "code",
   "outputs": [],
   "execution_count": 54,
   "source": [
    "class MeanIntersectionOverUnion(Metric):\n",
    "    def __init__(self, num_classes: int, eps: float = 1e-6):\n",
    "        super().__init__()\n",
    "        self.num_classes = num_classes\n",
    "        self.eps = eps\n",
    "\n",
    "    def compute_metric(self, preds: torch.Tensor, targets: torch.Tensor) -> float:\n",
    "        with torch.no_grad():\n",
    "            # Convert predictions to class indices if they're in one-hot format\n",
    "            if preds.dim() == targets.dim() + 1:\n",
    "                preds = torch.argmax(preds, dim=1)\n",
    "\n",
    "            iou_per_class = []\n",
    "            for c in range(self.num_classes):\n",
    "                # Get the true positive, false positive, and false negative for the class\n",
    "                intersection = ((preds == c) & (targets == c)).sum().item()\n",
    "                union = ((preds == c) | (targets == c)).sum().item()\n",
    "                \n",
    "                # Compute IoU and handle division by zero\n",
    "                iou = intersection / (union + self.eps)\n",
    "                iou_per_class.append(iou)\n",
    "\n",
    "        return np.nanmean(iou_per_class)\n",
    "\n",
    "class DiceScore(Metric):\n",
    "    def __init__(self, num_classes: int, eps: float = 1e-6):\n",
    "        super().__init__()\n",
    "        self.num_classes = num_classes\n",
    "        self.eps = eps\n",
    "\n",
    "    def compute_metric(self, preds: torch.Tensor, targets: torch.Tensor) -> float:\n",
    "        # If preds are in one-hot format, convert them to class indices\n",
    "        if preds.dim() == targets.dim() + 1:\n",
    "            preds = torch.argmax(preds, dim=1)\n",
    "\n",
    "        dice_per_class = []\n",
    "        for c in range(self.num_classes):\n",
    "            # Get the true positives, false positives, and false negatives for the class\n",
    "            true_positives = ((preds == c) & (targets == c)).sum().item()\n",
    "            predicted_positives = (preds == c).sum().item()\n",
    "            actual_positives = (targets == c).sum().item()\n",
    "\n",
    "            # Compute Dice score and handle division by zero\n",
    "            dice = (2 * true_positives) / (predicted_positives + actual_positives + self.eps)\n",
    "            dice_per_class.append(dice)\n",
    "\n",
    "        return np.mean(dice_per_class)\n"
   ],
   "id": "d15f1032-b2b5-4bf4-ba05-275fd6c0b680"
  },
  {
   "metadata": {},
   "cell_type": "markdown",
   "source": [
    "Зададим лосс и оптимизатор. У нас еще задача не очень сложная, можем воспользоваться кросс-энтропией.\n",
    "\n",
    "**Доп.задание**: создайте лосс из Dice Score. Обучите модель с новым лоссом. Как меняется результат? Объясните, почему можно сделать лосс из Dice Score, но не выйдет из IoU"
   ],
   "id": "41d5ef8d-bad4-49c0-b724-e94f46fac379"
  },
  {
   "metadata": {
    "ExecuteTime": {
     "end_time": "2024-11-02T09:08:55.922245Z",
     "start_time": "2024-11-02T09:08:55.916210Z"
    }
   },
   "cell_type": "code",
   "outputs": [],
   "execution_count": 55,
   "source": [
    "loss = torch.nn.CrossEntropyLoss()\n",
    "optimizer = torch.optim.AdamW(\n",
    "            model.parameters(), lr=0.001, weight_decay=0.3\n",
    "        )"
   ],
   "id": "cf80170b-5140-4c60-a9f3-76a595f4ab32"
  },
  {
   "metadata": {
    "ExecuteTime": {
     "end_time": "2024-11-02T09:08:56.573019Z",
     "start_time": "2024-11-02T09:08:56.567017Z"
    }
   },
   "cell_type": "code",
   "outputs": [],
   "execution_count": 56,
   "source": "metrics = MetricCollection({\"mIoU\": MeanIntersectionOverUnion(n_cls), \"dice\": DiceScore(n_cls)})",
   "id": "8914657a-4779-4b21-bc29-2b1062e0e8c9"
  },
  {
   "metadata": {
    "ExecuteTime": {
     "end_time": "2024-11-02T09:17:20.397050Z",
     "start_time": "2024-11-02T09:17:20.383243Z"
    }
   },
   "cell_type": "code",
   "outputs": [],
   "execution_count": 61,
   "source": [
    "def train_epoch(\n",
    "    model: nn.Module,\n",
    "    data_loader: torch.utils.data.DataLoader,\n",
    "    criterion: nn.Module,\n",
    "    metrics: MetricCollection,\n",
    "    optimizer: torch.optim.Optimizer,\n",
    "    binary: int | None = None,\n",
    "    return_losses=False,\n",
    "    device=\"cuda:0\"  # Accept the device parameter\n",
    "):\n",
    "    model = model.train()\n",
    "    total_loss = 0\n",
    "    num_batches = 0\n",
    "    all_losses = []\n",
    "\n",
    "    with tqdm.tqdm(total=len(data_loader)) as prbar:\n",
    "        for inputs, targets in data_loader:\n",
    "            # Move inputs and targets to the specified device\n",
    "            inputs, targets = inputs.to(device), targets.to(device)\n",
    "            \n",
    "            targets = targets.long()\n",
    "            \n",
    "            # Zero the gradients\n",
    "            optimizer.zero_grad()\n",
    "\n",
    "            # Forward pass\n",
    "            preds = model(inputs)\n",
    "\n",
    "            # Compute the loss\n",
    "            loss = criterion(preds, targets)\n",
    "\n",
    "            # Backward pass\n",
    "            loss.backward()\n",
    "\n",
    "            # Optimization step\n",
    "            optimizer.step()\n",
    "\n",
    "            # Update metrics\n",
    "            metrics_dict = metrics(preds, targets)\n",
    "\n",
    "            # Prepare tqdm description\n",
    "            metrics_desc = \",\".join([f\"{i}: {v:.4}\" for i,v in metrics_dict.items()])\n",
    "            prbar.set_description(\n",
    "                f\"Loss: {round(loss.item(), 4)} \" + metrics_desc\n",
    "            )\n",
    "            prbar.update(1)\n",
    "\n",
    "            # Accumulate loss and metrics\n",
    "            total_loss += loss.item()\n",
    "            num_batches += 1\n",
    "            all_losses.append(loss.detach().item())\n",
    "\n",
    "    # Compute and return metric values\n",
    "    metric_values = metrics.compute()\n",
    "    if return_losses:\n",
    "        return metric_values, all_losses\n",
    "    else:\n",
    "        return metric_values\n"
   ],
   "id": "8c7b1919-223a-436d-bd3a-ada4188a1138"
  },
  {
   "metadata": {
    "ExecuteTime": {
     "end_time": "2024-11-02T09:17:20.549565Z",
     "start_time": "2024-11-02T09:17:20.533143Z"
    }
   },
   "cell_type": "code",
   "outputs": [],
   "execution_count": 62,
   "source": [
    "def validate(\n",
    "    model: nn.Module,\n",
    "    data_loader: torch.utils.data.DataLoader,\n",
    "    criterion: nn.Module,\n",
    "    metrics: MetricCollection,\n",
    "    binary: bool | None = None,\n",
    "    device=\"cuda:0\"  # Accept the device parameter\n",
    "):\n",
    "    model = model.eval()\n",
    "    total_loss = 0\n",
    "    num_batches = 0\n",
    "\n",
    "    with tqdm.tqdm(total=len(data_loader)) as prbar:\n",
    "        for inputs, targets in data_loader:\n",
    "            # Move inputs and targets to the specified device\n",
    "            inputs, targets = inputs.to(device), targets.to(device)\n",
    "            \n",
    "            with torch.no_grad():\n",
    "                # Forward pass\n",
    "                preds = model(inputs)\n",
    "                \n",
    "                # Compute the loss\n",
    "                loss = criterion(preds, targets)\n",
    "                \n",
    "                # Update metrics\n",
    "                metrics_val = metrics(preds, targets)\n",
    "\n",
    "            # Prepare tqdm description\n",
    "            metrics_desc = \",\".join([f\"{i}: {v:.4}\" for i, v in metrics_val.items()])\n",
    "            prbar.set_description(\n",
    "                f\"Loss: {loss.item():.4} \" + metrics_desc\n",
    "            )\n",
    "            prbar.update(1)\n",
    "\n",
    "            # Accumulate loss\n",
    "            total_loss += loss.item()\n",
    "            num_batches += 1\n",
    "\n",
    "    # Return computed metrics and average loss\n",
    "    avg_loss = total_loss / num_batches if num_batches > 0 else float('inf')\n",
    "    return {**metrics.compute(), \"loss\": avg_loss}\n"
   ],
   "id": "9aeb987c-a577-43ec-baf4-c5950d6f5a9c"
  },
  {
   "metadata": {
    "ExecuteTime": {
     "end_time": "2024-11-02T09:17:20.720718Z",
     "start_time": "2024-11-02T09:17:20.708662Z"
    }
   },
   "cell_type": "code",
   "outputs": [],
   "execution_count": 63,
   "source": [
    "def train(\n",
    "    model: nn.Module,\n",
    "    epochs: int,\n",
    "    train_data_loader: torch.utils.data.DataLoader,\n",
    "    validation_data_loader: torch.utils.data.DataLoader,\n",
    "    criterion: nn.Module,\n",
    "    metrics: MetricCollection,\n",
    "    optimizer: torch.optim.Optimizer,\n",
    "    scheduler=None,\n",
    "    binary: int | None = None,\n",
    "    device=\"cuda:0\",\n",
    "    num_classes: int = 1\n",
    "):\n",
    "    all_train_losses = []\n",
    "    epoch_train_losses = []\n",
    "    epoch_eval_losses = []\n",
    "\n",
    "    for epoch in range(epochs):\n",
    "        # Train step\n",
    "        print(f\"Train Epoch: {epoch + 1}/{epochs}\")\n",
    "        train_metrics, one_epoch_train_losses = train_epoch(\n",
    "            model=model,\n",
    "            data_loader=train_data_loader,\n",
    "            criterion=criterion,\n",
    "            metrics=metrics,\n",
    "            optimizer=optimizer,\n",
    "            binary=binary,\n",
    "            return_losses=True,\n",
    "            device=device  # Pass the device to train_epoch\n",
    "        )\n",
    "\n",
    "        # Save train losses\n",
    "        all_train_losses.extend(one_epoch_train_losses)\n",
    "        epoch_train_losses.append(train_metrics[\"loss\"])\n",
    "\n",
    "        # Eval step\n",
    "        print(f\"Validation Epoch: {epoch + 1}/{epochs}\")\n",
    "        validation_metrics = validate(\n",
    "            model=model,\n",
    "            data_loader=validation_data_loader,\n",
    "            criterion=criterion,\n",
    "            metrics=metrics,\n",
    "            binary=binary,\n",
    "            device=device  # Pass the device to validate\n",
    "        )\n",
    "\n",
    "        # Save eval losses\n",
    "        epoch_eval_losses.append(validation_metrics[\"loss\"])\n",
    "\n",
    "        # Scheduler step\n",
    "        if scheduler:\n",
    "            scheduler.step()\n",
    "\n",
    "    return LossInfo(all_train_losses, epoch_train_losses, epoch_eval_losses)"
   ],
   "id": "0dd7a2ad-6489-415e-b887-a71422c844ea"
  },
  {
   "metadata": {
    "ExecuteTime": {
     "end_time": "2024-11-02T09:47:50.694521200Z",
     "start_time": "2024-11-02T09:46:30.371160Z"
    }
   },
   "cell_type": "code",
   "outputs": [
    {
     "name": "stdout",
     "output_type": "stream",
     "text": [
      "Train Epoch: 1/5\n"
     ]
    },
    {
     "name": "stderr",
     "output_type": "stream",
     "text": [
      "Loss: 0.9147 mIoU: 0.0968,dice: 0.1228:   2%|▏         | 3/148 [01:26<1:09:32, 28.78s/it]\n"
     ]
    },
    {
     "ename": "KeyboardInterrupt",
     "evalue": "",
     "output_type": "error",
     "traceback": [
      "\u001B[1;31m---------------------------------------------------------------------------\u001B[0m",
      "\u001B[1;31mKeyboardInterrupt\u001B[0m                         Traceback (most recent call last)",
      "Cell \u001B[1;32mIn[65], line 4\u001B[0m\n\u001B[0;32m      1\u001B[0m model\u001B[38;5;241m.\u001B[39mto(device)\n\u001B[0;32m      3\u001B[0m \u001B[38;5;66;03m# Call the train function with the number of classes\u001B[39;00m\n\u001B[1;32m----> 4\u001B[0m _ \u001B[38;5;241m=\u001B[39m \u001B[43mtrain\u001B[49m\u001B[43m(\u001B[49m\n\u001B[0;32m      5\u001B[0m \u001B[43m    \u001B[49m\u001B[43mmodel\u001B[49m\u001B[38;5;241;43m=\u001B[39;49m\u001B[43mmodel\u001B[49m\u001B[43m,\u001B[49m\n\u001B[0;32m      6\u001B[0m \u001B[43m    \u001B[49m\u001B[43mepochs\u001B[49m\u001B[38;5;241;43m=\u001B[39;49m\u001B[38;5;241;43m5\u001B[39;49m\u001B[43m,\u001B[49m\n\u001B[0;32m      7\u001B[0m \u001B[43m    \u001B[49m\u001B[43mtrain_data_loader\u001B[49m\u001B[38;5;241;43m=\u001B[39;49m\u001B[43mtrain_dataloader\u001B[49m\u001B[43m,\u001B[49m\n\u001B[0;32m      8\u001B[0m \u001B[43m    \u001B[49m\u001B[43mvalidation_data_loader\u001B[49m\u001B[38;5;241;43m=\u001B[39;49m\u001B[43mval_dataloader\u001B[49m\u001B[43m,\u001B[49m\n\u001B[0;32m      9\u001B[0m \u001B[43m    \u001B[49m\u001B[43mcriterion\u001B[49m\u001B[38;5;241;43m=\u001B[39;49m\u001B[43mloss\u001B[49m\u001B[43m,\u001B[49m\n\u001B[0;32m     10\u001B[0m \u001B[43m    \u001B[49m\u001B[43mmetrics\u001B[49m\u001B[38;5;241;43m=\u001B[39;49m\u001B[43mmetrics\u001B[49m\u001B[43m,\u001B[49m\n\u001B[0;32m     11\u001B[0m \u001B[43m    \u001B[49m\u001B[43moptimizer\u001B[49m\u001B[38;5;241;43m=\u001B[39;49m\u001B[43moptimizer\u001B[49m\u001B[43m,\u001B[49m\n\u001B[0;32m     12\u001B[0m \u001B[43m    \u001B[49m\u001B[43mdevice\u001B[49m\u001B[38;5;241;43m=\u001B[39;49m\u001B[43mdevice\u001B[49m\u001B[43m,\u001B[49m\n\u001B[0;32m     13\u001B[0m \u001B[43m    \u001B[49m\u001B[43mnum_classes\u001B[49m\u001B[38;5;241;43m=\u001B[39;49m\u001B[43mn_cls\u001B[49m\n\u001B[0;32m     14\u001B[0m \u001B[43m)\u001B[49m\n",
      "Cell \u001B[1;32mIn[63], line 21\u001B[0m, in \u001B[0;36mtrain\u001B[1;34m(model, epochs, train_data_loader, validation_data_loader, criterion, metrics, optimizer, scheduler, binary, device, num_classes)\u001B[0m\n\u001B[0;32m     18\u001B[0m \u001B[38;5;28;01mfor\u001B[39;00m epoch \u001B[38;5;129;01min\u001B[39;00m \u001B[38;5;28mrange\u001B[39m(epochs):\n\u001B[0;32m     19\u001B[0m     \u001B[38;5;66;03m# Train step\u001B[39;00m\n\u001B[0;32m     20\u001B[0m     \u001B[38;5;28mprint\u001B[39m(\u001B[38;5;124mf\u001B[39m\u001B[38;5;124m\"\u001B[39m\u001B[38;5;124mTrain Epoch: \u001B[39m\u001B[38;5;132;01m{\u001B[39;00mepoch\u001B[38;5;250m \u001B[39m\u001B[38;5;241m+\u001B[39m\u001B[38;5;250m \u001B[39m\u001B[38;5;241m1\u001B[39m\u001B[38;5;132;01m}\u001B[39;00m\u001B[38;5;124m/\u001B[39m\u001B[38;5;132;01m{\u001B[39;00mepochs\u001B[38;5;132;01m}\u001B[39;00m\u001B[38;5;124m\"\u001B[39m)\n\u001B[1;32m---> 21\u001B[0m     train_metrics, one_epoch_train_losses \u001B[38;5;241m=\u001B[39m \u001B[43mtrain_epoch\u001B[49m\u001B[43m(\u001B[49m\n\u001B[0;32m     22\u001B[0m \u001B[43m        \u001B[49m\u001B[43mmodel\u001B[49m\u001B[38;5;241;43m=\u001B[39;49m\u001B[43mmodel\u001B[49m\u001B[43m,\u001B[49m\n\u001B[0;32m     23\u001B[0m \u001B[43m        \u001B[49m\u001B[43mdata_loader\u001B[49m\u001B[38;5;241;43m=\u001B[39;49m\u001B[43mtrain_data_loader\u001B[49m\u001B[43m,\u001B[49m\n\u001B[0;32m     24\u001B[0m \u001B[43m        \u001B[49m\u001B[43mcriterion\u001B[49m\u001B[38;5;241;43m=\u001B[39;49m\u001B[43mcriterion\u001B[49m\u001B[43m,\u001B[49m\n\u001B[0;32m     25\u001B[0m \u001B[43m        \u001B[49m\u001B[43mmetrics\u001B[49m\u001B[38;5;241;43m=\u001B[39;49m\u001B[43mmetrics\u001B[49m\u001B[43m,\u001B[49m\n\u001B[0;32m     26\u001B[0m \u001B[43m        \u001B[49m\u001B[43moptimizer\u001B[49m\u001B[38;5;241;43m=\u001B[39;49m\u001B[43moptimizer\u001B[49m\u001B[43m,\u001B[49m\n\u001B[0;32m     27\u001B[0m \u001B[43m        \u001B[49m\u001B[43mbinary\u001B[49m\u001B[38;5;241;43m=\u001B[39;49m\u001B[43mbinary\u001B[49m\u001B[43m,\u001B[49m\n\u001B[0;32m     28\u001B[0m \u001B[43m        \u001B[49m\u001B[43mreturn_losses\u001B[49m\u001B[38;5;241;43m=\u001B[39;49m\u001B[38;5;28;43;01mTrue\u001B[39;49;00m\u001B[43m,\u001B[49m\n\u001B[0;32m     29\u001B[0m \u001B[43m        \u001B[49m\u001B[43mdevice\u001B[49m\u001B[38;5;241;43m=\u001B[39;49m\u001B[43mdevice\u001B[49m\u001B[43m  \u001B[49m\u001B[38;5;66;43;03m# Pass the device to train_epoch\u001B[39;49;00m\n\u001B[0;32m     30\u001B[0m \u001B[43m    \u001B[49m\u001B[43m)\u001B[49m\n\u001B[0;32m     32\u001B[0m     \u001B[38;5;66;03m# Save train losses\u001B[39;00m\n\u001B[0;32m     33\u001B[0m     all_train_losses\u001B[38;5;241m.\u001B[39mextend(one_epoch_train_losses)\n",
      "Cell \u001B[1;32mIn[61], line 33\u001B[0m, in \u001B[0;36mtrain_epoch\u001B[1;34m(model, data_loader, criterion, metrics, optimizer, binary, return_losses, device)\u001B[0m\n\u001B[0;32m     30\u001B[0m loss \u001B[38;5;241m=\u001B[39m criterion(preds, targets)\n\u001B[0;32m     32\u001B[0m \u001B[38;5;66;03m# Backward pass\u001B[39;00m\n\u001B[1;32m---> 33\u001B[0m \u001B[43mloss\u001B[49m\u001B[38;5;241;43m.\u001B[39;49m\u001B[43mbackward\u001B[49m\u001B[43m(\u001B[49m\u001B[43m)\u001B[49m\n\u001B[0;32m     35\u001B[0m \u001B[38;5;66;03m# Optimization step\u001B[39;00m\n\u001B[0;32m     36\u001B[0m optimizer\u001B[38;5;241m.\u001B[39mstep()\n",
      "File \u001B[1;32mD:\\4_course\\deep_learning_hw\\.venv\\Lib\\site-packages\\torch\\_tensor.py:581\u001B[0m, in \u001B[0;36mTensor.backward\u001B[1;34m(self, gradient, retain_graph, create_graph, inputs)\u001B[0m\n\u001B[0;32m    571\u001B[0m \u001B[38;5;28;01mif\u001B[39;00m has_torch_function_unary(\u001B[38;5;28mself\u001B[39m):\n\u001B[0;32m    572\u001B[0m     \u001B[38;5;28;01mreturn\u001B[39;00m handle_torch_function(\n\u001B[0;32m    573\u001B[0m         Tensor\u001B[38;5;241m.\u001B[39mbackward,\n\u001B[0;32m    574\u001B[0m         (\u001B[38;5;28mself\u001B[39m,),\n\u001B[1;32m   (...)\u001B[0m\n\u001B[0;32m    579\u001B[0m         inputs\u001B[38;5;241m=\u001B[39minputs,\n\u001B[0;32m    580\u001B[0m     )\n\u001B[1;32m--> 581\u001B[0m \u001B[43mtorch\u001B[49m\u001B[38;5;241;43m.\u001B[39;49m\u001B[43mautograd\u001B[49m\u001B[38;5;241;43m.\u001B[39;49m\u001B[43mbackward\u001B[49m\u001B[43m(\u001B[49m\n\u001B[0;32m    582\u001B[0m \u001B[43m    \u001B[49m\u001B[38;5;28;43mself\u001B[39;49m\u001B[43m,\u001B[49m\u001B[43m \u001B[49m\u001B[43mgradient\u001B[49m\u001B[43m,\u001B[49m\u001B[43m \u001B[49m\u001B[43mretain_graph\u001B[49m\u001B[43m,\u001B[49m\u001B[43m \u001B[49m\u001B[43mcreate_graph\u001B[49m\u001B[43m,\u001B[49m\u001B[43m \u001B[49m\u001B[43minputs\u001B[49m\u001B[38;5;241;43m=\u001B[39;49m\u001B[43minputs\u001B[49m\n\u001B[0;32m    583\u001B[0m \u001B[43m\u001B[49m\u001B[43m)\u001B[49m\n",
      "File \u001B[1;32mD:\\4_course\\deep_learning_hw\\.venv\\Lib\\site-packages\\torch\\autograd\\__init__.py:347\u001B[0m, in \u001B[0;36mbackward\u001B[1;34m(tensors, grad_tensors, retain_graph, create_graph, grad_variables, inputs)\u001B[0m\n\u001B[0;32m    342\u001B[0m     retain_graph \u001B[38;5;241m=\u001B[39m create_graph\n\u001B[0;32m    344\u001B[0m \u001B[38;5;66;03m# The reason we repeat the same comment below is that\u001B[39;00m\n\u001B[0;32m    345\u001B[0m \u001B[38;5;66;03m# some Python versions print out the first line of a multi-line function\u001B[39;00m\n\u001B[0;32m    346\u001B[0m \u001B[38;5;66;03m# calls in the traceback and some print out the last line\u001B[39;00m\n\u001B[1;32m--> 347\u001B[0m \u001B[43m_engine_run_backward\u001B[49m\u001B[43m(\u001B[49m\n\u001B[0;32m    348\u001B[0m \u001B[43m    \u001B[49m\u001B[43mtensors\u001B[49m\u001B[43m,\u001B[49m\n\u001B[0;32m    349\u001B[0m \u001B[43m    \u001B[49m\u001B[43mgrad_tensors_\u001B[49m\u001B[43m,\u001B[49m\n\u001B[0;32m    350\u001B[0m \u001B[43m    \u001B[49m\u001B[43mretain_graph\u001B[49m\u001B[43m,\u001B[49m\n\u001B[0;32m    351\u001B[0m \u001B[43m    \u001B[49m\u001B[43mcreate_graph\u001B[49m\u001B[43m,\u001B[49m\n\u001B[0;32m    352\u001B[0m \u001B[43m    \u001B[49m\u001B[43minputs\u001B[49m\u001B[43m,\u001B[49m\n\u001B[0;32m    353\u001B[0m \u001B[43m    \u001B[49m\u001B[43mallow_unreachable\u001B[49m\u001B[38;5;241;43m=\u001B[39;49m\u001B[38;5;28;43;01mTrue\u001B[39;49;00m\u001B[43m,\u001B[49m\n\u001B[0;32m    354\u001B[0m \u001B[43m    \u001B[49m\u001B[43maccumulate_grad\u001B[49m\u001B[38;5;241;43m=\u001B[39;49m\u001B[38;5;28;43;01mTrue\u001B[39;49;00m\u001B[43m,\u001B[49m\n\u001B[0;32m    355\u001B[0m \u001B[43m\u001B[49m\u001B[43m)\u001B[49m\n",
      "File \u001B[1;32mD:\\4_course\\deep_learning_hw\\.venv\\Lib\\site-packages\\torch\\autograd\\graph.py:825\u001B[0m, in \u001B[0;36m_engine_run_backward\u001B[1;34m(t_outputs, *args, **kwargs)\u001B[0m\n\u001B[0;32m    823\u001B[0m     unregister_hooks \u001B[38;5;241m=\u001B[39m _register_logging_hooks_on_whole_graph(t_outputs)\n\u001B[0;32m    824\u001B[0m \u001B[38;5;28;01mtry\u001B[39;00m:\n\u001B[1;32m--> 825\u001B[0m     \u001B[38;5;28;01mreturn\u001B[39;00m \u001B[43mVariable\u001B[49m\u001B[38;5;241;43m.\u001B[39;49m\u001B[43m_execution_engine\u001B[49m\u001B[38;5;241;43m.\u001B[39;49m\u001B[43mrun_backward\u001B[49m\u001B[43m(\u001B[49m\u001B[43m  \u001B[49m\u001B[38;5;66;43;03m# Calls into the C++ engine to run the backward pass\u001B[39;49;00m\n\u001B[0;32m    826\u001B[0m \u001B[43m        \u001B[49m\u001B[43mt_outputs\u001B[49m\u001B[43m,\u001B[49m\u001B[43m \u001B[49m\u001B[38;5;241;43m*\u001B[39;49m\u001B[43margs\u001B[49m\u001B[43m,\u001B[49m\u001B[43m \u001B[49m\u001B[38;5;241;43m*\u001B[39;49m\u001B[38;5;241;43m*\u001B[39;49m\u001B[43mkwargs\u001B[49m\n\u001B[0;32m    827\u001B[0m \u001B[43m    \u001B[49m\u001B[43m)\u001B[49m  \u001B[38;5;66;03m# Calls into the C++ engine to run the backward pass\u001B[39;00m\n\u001B[0;32m    828\u001B[0m \u001B[38;5;28;01mfinally\u001B[39;00m:\n\u001B[0;32m    829\u001B[0m     \u001B[38;5;28;01mif\u001B[39;00m attach_logging_hooks:\n",
      "\u001B[1;31mKeyboardInterrupt\u001B[0m: "
     ]
    }
   ],
   "execution_count": 65,
   "source": [
    "model.to(device)\n",
    "\n",
    "# Call the train function with the number of classes\n",
    "_ = train(\n",
    "    model=model,\n",
    "    epochs=5,\n",
    "    train_data_loader=train_dataloader,\n",
    "    validation_data_loader=val_dataloader,\n",
    "    criterion=loss,\n",
    "    metrics=metrics,\n",
    "    optimizer=optimizer,\n",
    "    device=device,\n",
    "    num_classes=n_cls\n",
    ")"
   ],
   "id": "a263328b-648c-4c8a-8bed-0f9d759faca7"
  },
  {
   "metadata": {},
   "cell_type": "code",
   "outputs": [],
   "execution_count": null,
   "source": [
    "def predict_img(\n",
    "    net: nn.Module, img: torch.Tensor, device: str = device, out_threshold: float = 0.5\n",
    ") -> np.ndarray:\n",
    "    net.eval()\n",
    "    net.to(device)\n",
    "\n",
    "    img = img.unsqueeze(0)\n",
    "    img = img.to(device=device, dtype=torch.float32)\n",
    "\n",
    "    with torch.no_grad():\n",
    "        output = net(img)\n",
    "        probs = torch.softmax(output)\n",
    "        full_mask = probs.cpu().squeeze()\n",
    "\n",
    "        return (full_mask > out_threshold).numpy()"
   ],
   "id": "d4f2f852-e8d4-4a59-9a4a-f72387a3ec92"
  },
  {
   "metadata": {},
   "cell_type": "code",
   "outputs": [],
   "execution_count": null,
   "source": [
    "image = test_dataset[0]\n",
    "predict_img(model, image)"
   ],
   "id": "b01f4223-2791-4d8b-a782-2916dd08d435"
  },
  {
   "metadata": {},
   "cell_type": "markdown",
   "source": "**Задание**: напишите функцию инференса и прогоните модель на тестовом датасете. Также используйте метрики, чтобы узнать точность в таком полубоевом режиме. Как именно организовать инференс - ваше решение ",
   "id": "072b8c16-8815-4b4a-9635-dea0b0799dcf"
  },
  {
   "cell_type": "code",
   "execution_count": null,
   "id": "1762e5e7-ce19-4e36-b8ec-84bccbe88f2c",
   "metadata": {},
   "outputs": [],
   "source": []
  }
 ],
 "metadata": {
  "kernelspec": {
   "display_name": "Python 3 (ipykernel)",
   "language": "python",
   "name": "python3"
  },
  "language_info": {
   "codemirror_mode": {
    "name": "ipython",
    "version": 3
   },
   "file_extension": ".py",
   "mimetype": "text/x-python",
   "name": "python",
   "nbconvert_exporter": "python",
   "pygments_lexer": "ipython3",
   "version": "3.10.15"
  }
 },
 "nbformat": 4,
 "nbformat_minor": 5
}
