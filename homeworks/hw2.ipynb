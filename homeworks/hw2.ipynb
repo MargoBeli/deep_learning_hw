{
 "cells": [
  {
   "metadata": {},
   "cell_type": "markdown",
   "source": [
    "Задача 1. (2 балла)\n",
    "Реализуйте слой BatchNorm (nn.BatchNorm)."
   ],
   "id": "866bb04ca15fc6c8"
  },
  {
   "cell_type": "code",
   "id": "initial_id",
   "metadata": {
    "collapsed": true,
    "ExecuteTime": {
     "end_time": "2024-11-26T12:54:48.219356Z",
     "start_time": "2024-11-26T12:54:37.186818Z"
    }
   },
   "source": [
    "import torch\n",
    "import random\n",
    "import numpy as np\n",
    "\n",
    "class BatchNorm:\n",
    "    def __init__(self, num_features, epsilon=1e-5):\n",
    "        self.epsilon = epsilon\n",
    "        self.gamma = torch.ones(num_features, requires_grad=True)\n",
    "        self.beta = torch.zeros(num_features, requires_grad=True)\n",
    "\n",
    "    def forward(self, x):\n",
    "        batch_mean = x.mean(dim=0)\n",
    "        batch_var = x.var(dim=0)\n",
    "    \n",
    "        x_hat = (x - batch_mean) / torch.sqrt(batch_var + self.epsilon)\n",
    "        return self.gamma * x_hat + self.beta\n",
    "\n",
    "batch_norm = BatchNorm(num_features=10)\n",
    "input_data = torch.randn(32, 10, requires_grad=True)\n",
    "batch_norm.forward(input_data)"
   ],
   "outputs": [
    {
     "data": {
      "text/plain": [
       "tensor([[ 4.3082e-01,  4.3273e-01,  1.4884e+00,  6.8129e-01, -6.4035e-01,\n",
       "         -7.1742e-01,  9.9049e-01, -1.3895e+00, -1.1934e+00,  1.7556e+00],\n",
       "        [ 2.7861e+00,  5.5807e-01,  5.8653e-01, -1.4094e+00,  4.3083e-01,\n",
       "          1.7640e-01,  1.3010e+00, -8.3862e-01, -1.2442e+00,  9.3473e-01],\n",
       "        [ 1.0441e+00,  4.8558e-01, -1.4653e+00,  1.1008e+00, -8.5241e-01,\n",
       "          9.1034e-02, -3.6947e-02, -3.7284e-01, -3.1795e-01,  1.0844e-01],\n",
       "        [-3.1930e-01,  5.4259e-02, -2.1638e-01,  1.1658e+00, -1.2368e+00,\n",
       "          1.8618e-01,  2.0594e+00, -4.5612e-01,  6.0744e-01, -4.1605e-01],\n",
       "        [ 1.8388e-01,  1.4054e+00, -1.0816e+00,  1.0636e+00,  4.4354e-01,\n",
       "          9.3934e-01,  2.9562e-01, -9.5719e-01, -1.6318e+00,  8.5206e-01],\n",
       "        [-1.9200e+00,  5.7312e-01, -5.3798e-01,  8.6279e-02, -1.8731e-01,\n",
       "         -5.2998e-01, -1.0662e+00,  1.2646e+00, -1.4216e+00,  1.2094e+00],\n",
       "        [-1.0237e+00, -3.8184e-01,  1.0284e-01,  1.3379e+00,  2.7022e-01,\n",
       "          2.8299e+00,  3.2219e-01,  3.6468e-01, -6.4823e-01, -3.2975e-01],\n",
       "        [-9.1125e-01,  3.2466e-01,  2.6293e-01,  7.5323e-01,  2.0622e-01,\n",
       "          1.1013e+00, -1.5944e-01,  9.0234e-01, -4.8274e-01, -1.4341e+00],\n",
       "        [-8.6378e-01,  6.3546e-01, -3.0027e+00,  8.3258e-01,  4.7281e-01,\n",
       "         -8.5375e-01,  1.4685e+00,  1.5173e+00,  1.8764e-01, -1.0600e+00],\n",
       "        [ 1.2239e+00, -2.3181e+00,  3.8239e-01,  8.6223e-01, -1.5010e+00,\n",
       "         -1.8796e-01,  5.9527e-01,  1.6129e+00,  5.5487e-01, -4.9143e-01],\n",
       "        [-3.2252e-01, -9.3176e-03, -1.0747e-01, -3.0330e-02,  3.9617e-01,\n",
       "         -9.6012e-01, -8.3707e-01, -9.9315e-01,  5.9732e-01, -7.2957e-01],\n",
       "        [ 1.4456e-01,  2.2387e+00, -2.3291e-01, -1.7481e+00,  1.0515e-01,\n",
       "          8.5907e-01,  1.6115e-01,  7.2382e-02, -1.0598e-01,  3.2964e-01],\n",
       "        [-8.1171e-01, -1.2581e+00,  5.8063e-01, -2.8692e-01,  8.6531e-02,\n",
       "          4.3511e-01, -5.7800e-01,  7.3054e-02,  1.1830e+00,  9.8331e-01],\n",
       "        [-1.1435e+00,  6.8311e-02,  1.2002e+00,  1.5775e+00,  6.6283e-01,\n",
       "          9.3587e-01, -1.0357e-01, -1.2219e+00, -1.8463e-01, -7.5059e-01],\n",
       "        [-1.1608e+00, -3.1049e-01,  6.3135e-03,  4.9528e-01, -8.2907e-01,\n",
       "         -9.7253e-02, -5.4997e-01,  2.5354e-01, -2.6526e-01,  9.5942e-01],\n",
       "        [ 2.5346e-01,  4.8011e-01, -1.9956e+00, -1.3256e+00, -1.8321e+00,\n",
       "          2.6753e-02,  3.0894e-02, -9.8132e-01,  1.1521e+00,  1.2879e+00],\n",
       "        [-4.6465e-01, -1.8445e-01, -2.7501e-01, -3.6304e-01,  2.3666e-01,\n",
       "          2.5876e-01, -2.4457e-01, -8.9916e-01, -7.2532e-01, -1.5014e+00],\n",
       "        [-9.6411e-01,  2.8754e-01,  2.7577e-01,  5.7086e-01,  1.5872e+00,\n",
       "         -1.3187e+00, -1.0230e+00, -1.0019e+00, -1.5129e+00,  1.5820e+00],\n",
       "        [ 1.5455e+00,  1.0932e+00,  6.3891e-01, -6.3041e-02, -4.9970e-01,\n",
       "          7.9385e-01, -1.9826e+00,  1.0323e-01,  6.3986e-01, -1.2553e+00],\n",
       "        [ 3.2758e-01, -2.8207e-01, -9.6831e-01, -1.4769e-01,  1.2359e+00,\n",
       "         -1.1929e+00, -4.3922e-01,  3.7518e-01,  1.4479e+00, -8.5833e-01],\n",
       "        [ 6.5714e-01, -1.3768e+00,  1.5918e+00,  8.4949e-01,  1.4349e+00,\n",
       "          5.2478e-01,  1.5256e-01,  1.2469e+00,  1.8947e-01, -9.1241e-01],\n",
       "        [-3.4035e-01,  2.3418e-01,  4.3415e-01, -4.2930e-01,  1.3709e+00,\n",
       "          1.0041e+00, -9.6902e-01,  1.7544e+00,  1.5447e+00, -3.7812e-01],\n",
       "        [-1.4239e-01,  1.2934e+00, -1.1325e-01, -2.1497e+00,  1.2284e+00,\n",
       "         -2.0641e+00, -1.8412e+00, -7.9061e-01, -1.2199e+00, -3.7714e-01],\n",
       "        [-1.6773e+00,  9.5068e-01, -8.6034e-01, -1.0424e+00, -1.3573e+00,\n",
       "         -3.4570e-01,  9.6315e-01,  9.5084e-01,  9.5230e-01, -5.9673e-01],\n",
       "        [ 1.2117e-01, -1.0854e+00,  1.4126e+00,  4.5818e-01,  5.4426e-01,\n",
       "          5.6763e-02,  1.5328e+00, -1.6673e+00, -6.4169e-01, -2.7172e-01],\n",
       "        [ 1.1307e-01,  1.5738e-01,  1.0050e-01, -6.4741e-01,  5.5614e-01,\n",
       "         -9.3369e-01, -3.6095e-01,  1.5217e+00,  1.2061e+00,  2.6741e-01],\n",
       "        [ 1.1942e+00, -7.9671e-01,  5.1491e-01,  2.3590e-01, -9.7006e-01,\n",
       "         -9.7836e-01, -1.4885e+00, -4.5691e-01,  3.3383e-01, -5.3541e-01],\n",
       "        [ 2.5443e-01, -2.1992e+00, -3.7387e-01,  1.0833e+00,  1.0020e+00,\n",
       "          6.7942e-02, -9.0933e-01, -5.0843e-01, -1.6479e+00, -9.2314e-01],\n",
       "        [ 1.7776e-01,  8.0531e-01,  1.1274e+00, -1.3766e-01, -2.0046e+00,\n",
       "         -1.0190e+00,  6.5739e-01,  6.9908e-01,  1.0069e-01,  2.2662e+00],\n",
       "        [ 1.2859e+00, -9.4799e-01, -5.4096e-01, -5.9415e-01,  1.0752e+00,\n",
       "         -1.2813e+00,  3.2275e-02,  1.0772e+00,  6.5952e-01, -8.5017e-01],\n",
       "        [-1.8278e-01,  2.0401e-03,  8.5273e-01, -1.7258e+00, -3.5098e-01,\n",
       "          1.3007e+00,  1.4163e+00, -7.0162e-01,  4.2732e-02,  7.3891e-01],\n",
       "        [ 5.0472e-01, -9.2963e-01,  2.1260e-01, -1.0535e+00, -1.0843e+00,\n",
       "          8.9229e-01,  6.1072e-01, -5.5278e-01,  1.8440e+00,  3.9635e-01]],\n",
       "       grad_fn=<AddBackward0>)"
      ]
     },
     "execution_count": 3,
     "metadata": {},
     "output_type": "execute_result"
    }
   ],
   "execution_count": 3
  },
  {
   "metadata": {},
   "cell_type": "markdown",
   "source": [
    "Задача 2. (2 балла)\n",
    "Реализуйте слой Linear (nn.Linear)."
   ],
   "id": "2579bf2b1f98edb5"
  },
  {
   "metadata": {
    "ExecuteTime": {
     "end_time": "2024-10-11T16:44:48.793413Z",
     "start_time": "2024-10-11T16:44:48.756161Z"
    }
   },
   "cell_type": "code",
   "source": [
    "class Linear:\n",
    "    def __init__(self, in_features, out_features):\n",
    "        self.weight = torch.randn(out_features, in_features, requires_grad=True)\n",
    "        self.bias = torch.zeros(out_features, requires_grad=True)\n",
    "\n",
    "    def forward(self, x):\n",
    "        return x @ self.weight.T + self.bias\n",
    "\n",
    "linear_layer = Linear(in_features=10, out_features=5)\n",
    "linear_layer.forward(input_data)"
   ],
   "id": "de0622b32bf1d3b2",
   "outputs": [
    {
     "data": {
      "text/plain": [
       "tensor([[ 0.0122, -0.0151,  0.0132, -0.0344, -0.0144],\n",
       "        [ 0.0062,  0.0219,  0.0074,  0.0794,  0.0289],\n",
       "        [ 0.0356,  0.0635,  0.0182,  0.0548,  0.0108],\n",
       "        [-0.0134,  0.0248, -0.0040, -0.0183,  0.0020],\n",
       "        [ 0.0131,  0.0078, -0.0117,  0.0172,  0.0022],\n",
       "        [ 0.0221,  0.0037, -0.0103,  0.0691, -0.0258],\n",
       "        [-0.0006, -0.0692, -0.0093, -0.0521, -0.0403],\n",
       "        [ 0.0002,  0.0107, -0.0104,  0.0367,  0.0086],\n",
       "        [-0.0121,  0.0026,  0.0217, -0.0077,  0.0306],\n",
       "        [-0.0151, -0.0098, -0.0412,  0.0708, -0.0039],\n",
       "        [ 0.0069, -0.0228,  0.0007,  0.0558,  0.0078],\n",
       "        [-0.0051, -0.0304, -0.0366, -0.0104, -0.0232],\n",
       "        [-0.0555, -0.0112, -0.0319,  0.0235,  0.0495],\n",
       "        [-0.0416,  0.0043, -0.0002,  0.0245,  0.0105],\n",
       "        [ 0.0192,  0.0357, -0.0116,  0.0492, -0.0247],\n",
       "        [ 0.0242, -0.0043,  0.0538,  0.0103,  0.0172],\n",
       "        [ 0.0054, -0.0260,  0.0383, -0.0450, -0.0230],\n",
       "        [-0.0521,  0.0261, -0.0245, -0.0012,  0.0188],\n",
       "        [-0.0060, -0.0179,  0.0078, -0.0193,  0.0064],\n",
       "        [-0.0194, -0.0099,  0.0113, -0.0495, -0.0274],\n",
       "        [ 0.0038, -0.0114,  0.0076,  0.0176,  0.0200],\n",
       "        [-0.0776,  0.0080, -0.0080, -0.0204, -0.0044],\n",
       "        [ 0.0053,  0.0269,  0.0063, -0.0031, -0.0201],\n",
       "        [ 0.0118,  0.0176, -0.0579,  0.0671, -0.0460],\n",
       "        [ 0.0142, -0.0329, -0.0255,  0.0212, -0.0525],\n",
       "        [-0.0102, -0.0086,  0.0153,  0.0137, -0.0328],\n",
       "        [-0.0107,  0.0167, -0.0062,  0.0003,  0.0168],\n",
       "        [ 0.0118,  0.0114, -0.0284,  0.0786,  0.0023],\n",
       "        [ 0.0318,  0.0185,  0.0428,  0.0353,  0.0125],\n",
       "        [-0.0056,  0.0095, -0.0312,  0.0250, -0.0235],\n",
       "        [ 0.0451, -0.0070, -0.0086, -0.0149, -0.0263],\n",
       "        [ 0.0113,  0.0006,  0.0203, -0.0559,  0.0280]], grad_fn=<AddBackward0>)"
      ]
     },
     "execution_count": 6,
     "metadata": {},
     "output_type": "execute_result"
    }
   ],
   "execution_count": 6
  },
  {
   "metadata": {},
   "cell_type": "markdown",
   "source": [
    "Задача 3. (2 балла)\n",
    "Реализуйте слой Dropout(nn.Dropout)"
   ],
   "id": "a8e815f8c8dcc30d"
  },
  {
   "metadata": {
    "ExecuteTime": {
     "end_time": "2024-10-11T16:45:47.798001Z",
     "start_time": "2024-10-11T16:45:47.781489Z"
    }
   },
   "cell_type": "code",
   "source": [
    "import torch\n",
    "\n",
    "class Dropout:\n",
    "    def __init__(self, p=0.5):\n",
    "        self.p = p\n",
    "\n",
    "    def forward(self, x, training=True):\n",
    "        if training:\n",
    "            mask = (torch.rand_like(x) > self.p).float()\n",
    "            return x * mask / (1 - self.p)\n",
    "        return x\n",
    "\n",
    "dropout_layer = Dropout(p=0.5)\n",
    "dropout_layer.forward(input_data, training=True)"
   ],
   "id": "7ee5987335be7c16",
   "outputs": [
    {
     "data": {
      "text/plain": [
       "tensor([[-0.0000e+00, -0.0000e+00,  0.0000e+00,  0.0000e+00,  1.9725e-01,\n",
       "          0.0000e+00, -0.0000e+00,  8.3385e-01,  0.0000e+00, -5.1205e-01],\n",
       "        [ 2.5607e+00, -1.8224e+00,  0.0000e+00, -0.0000e+00,  0.0000e+00,\n",
       "         -4.6432e+00,  2.6459e+00,  8.7414e-01,  0.0000e+00,  0.0000e+00],\n",
       "        [ 9.7186e-02,  0.0000e+00,  0.0000e+00, -1.4217e+00, -1.1807e+00,\n",
       "         -0.0000e+00,  2.6858e+00,  0.0000e+00, -0.0000e+00, -0.0000e+00],\n",
       "        [-0.0000e+00,  2.2985e+00,  1.4839e+00, -0.0000e+00,  0.0000e+00,\n",
       "         -1.2883e+00, -1.5817e+00, -2.7148e+00,  0.0000e+00, -1.4923e+00],\n",
       "        [-8.6530e-01,  0.0000e+00,  2.0481e+00,  7.9840e-01, -2.4694e+00,\n",
       "         -2.2235e+00, -3.2890e+00,  1.1327e+00, -1.6006e+00,  7.4241e-01],\n",
       "        [-7.9935e-01, -4.7837e+00,  3.2748e+00, -0.0000e+00,  6.5692e-01,\n",
       "          0.0000e+00,  0.0000e+00,  1.9659e+00, -0.0000e+00, -0.0000e+00],\n",
       "        [-3.1125e+00,  0.0000e+00, -1.6622e+00,  1.1534e+00,  0.0000e+00,\n",
       "          0.0000e+00, -3.1389e+00,  7.0809e-01, -0.0000e+00,  1.3195e+00],\n",
       "        [-1.1798e+00, -0.0000e+00, -2.3354e-01, -0.0000e+00, -0.0000e+00,\n",
       "         -0.0000e+00,  9.1780e-01, -0.0000e+00, -0.0000e+00,  0.0000e+00],\n",
       "        [ 3.9476e-01,  3.6797e+00,  0.0000e+00, -3.4095e-01, -0.0000e+00,\n",
       "          1.9844e-01, -5.5711e-01, -0.0000e+00,  3.7474e-01,  0.0000e+00],\n",
       "        [ 2.1290e-01, -0.0000e+00,  0.0000e+00, -2.8306e+00, -0.0000e+00,\n",
       "         -0.0000e+00, -2.4924e+00, -1.6979e-01, -0.0000e+00,  2.6527e+00],\n",
       "        [ 0.0000e+00, -2.2065e+00, -1.0987e-01, -0.0000e+00, -0.0000e+00,\n",
       "         -2.1675e+00,  0.0000e+00,  2.0011e+00, -0.0000e+00,  4.2457e+00],\n",
       "        [ 1.6637e+00, -0.0000e+00,  3.6150e-01, -0.0000e+00, -0.0000e+00,\n",
       "          5.2676e+00, -0.0000e+00,  0.0000e+00, -0.0000e+00, -2.6751e+00],\n",
       "        [-0.0000e+00,  5.9853e-01, -0.0000e+00, -4.6358e+00, -1.1351e-01,\n",
       "          8.5771e-01,  2.5004e-01, -0.0000e+00,  0.0000e+00,  3.2089e+00],\n",
       "        [ 0.0000e+00, -4.2875e-01,  2.5650e+00, -0.0000e+00, -0.0000e+00,\n",
       "          3.2552e+00,  1.7111e+00, -0.0000e+00, -2.5822e-01,  0.0000e+00],\n",
       "        [ 0.0000e+00, -2.5165e+00,  0.0000e+00, -0.0000e+00, -5.8021e-01,\n",
       "         -1.9312e+00, -2.5715e-01,  1.9607e+00, -0.0000e+00, -0.0000e+00],\n",
       "        [ 0.0000e+00,  0.0000e+00,  0.0000e+00,  1.3987e-01, -1.2556e+00,\n",
       "          0.0000e+00,  2.4485e+00,  0.0000e+00, -0.0000e+00,  6.1292e-01],\n",
       "        [-0.0000e+00,  1.9558e+00,  2.5936e+00,  0.0000e+00, -0.0000e+00,\n",
       "          0.0000e+00,  4.3416e-01,  1.8281e+00, -1.8379e+00, -1.6235e+00],\n",
       "        [ 0.0000e+00,  0.0000e+00,  1.1258e+00, -8.7169e-01, -0.0000e+00,\n",
       "         -0.0000e+00, -2.9113e+00, -3.1411e+00, -1.6823e+00, -2.1242e-01],\n",
       "        [ 5.5433e-01, -5.0112e-01, -0.0000e+00, -0.0000e+00, -0.0000e+00,\n",
       "          0.0000e+00,  0.0000e+00,  0.0000e+00,  0.0000e+00, -7.9934e-01],\n",
       "        [-4.8491e+00,  1.9654e+00, -1.3065e+00,  0.0000e+00, -4.0607e-01,\n",
       "          0.0000e+00,  2.1561e-01, -0.0000e+00, -0.0000e+00, -0.0000e+00],\n",
       "        [-4.0311e-01, -4.0162e-01,  0.0000e+00, -2.2787e+00, -0.0000e+00,\n",
       "          0.0000e+00,  1.5151e+00,  9.6766e-01,  0.0000e+00,  5.2628e-01],\n",
       "        [ 4.1461e+00,  0.0000e+00,  3.2659e+00, -1.9830e-02,  0.0000e+00,\n",
       "          2.5656e-01, -2.9565e+00, -3.3410e+00,  0.0000e+00, -6.7838e-02],\n",
       "        [-0.0000e+00, -2.0748e+00,  0.0000e+00,  0.0000e+00,  2.7131e-01,\n",
       "         -4.4368e-03,  0.0000e+00, -0.0000e+00,  1.5838e+00, -2.7205e+00],\n",
       "        [-2.6522e+00, -0.0000e+00, -0.0000e+00, -0.0000e+00,  0.0000e+00,\n",
       "         -2.4591e+00,  9.4660e-01, -0.0000e+00, -1.7621e-01, -1.2313e+00],\n",
       "        [ 7.0950e-01, -1.5358e+00,  0.0000e+00, -1.9226e+00,  4.5863e-01,\n",
       "          2.5387e+00, -8.7743e-01,  0.0000e+00, -0.0000e+00, -5.6656e-01],\n",
       "        [-9.1011e-01, -0.0000e+00,  0.0000e+00,  0.0000e+00,  0.0000e+00,\n",
       "          1.0546e+00,  2.3277e+00, -0.0000e+00, -2.0962e+00,  4.7707e-01],\n",
       "        [ 2.6858e+00, -0.0000e+00,  4.6408e-01, -1.1605e+00, -1.8423e+00,\n",
       "          0.0000e+00,  0.0000e+00,  0.0000e+00,  8.5223e-01, -0.0000e+00],\n",
       "        [ 7.8999e-02, -1.5508e+00,  0.0000e+00, -0.0000e+00, -0.0000e+00,\n",
       "         -8.9775e-01,  3.4548e-01,  7.4708e-01, -0.0000e+00,  5.9133e-01],\n",
       "        [-1.3053e+00, -7.4086e-04,  1.1188e+00,  0.0000e+00, -1.1426e+00,\n",
       "         -3.4178e+00,  3.7457e+00,  0.0000e+00, -0.0000e+00,  0.0000e+00],\n",
       "        [-0.0000e+00, -0.0000e+00, -2.0740e-01,  4.3300e-01, -1.4980e+00,\n",
       "         -0.0000e+00, -0.0000e+00, -9.8416e-01, -0.0000e+00, -0.0000e+00],\n",
       "        [-2.1119e+00,  0.0000e+00, -0.0000e+00,  1.1153e-01,  3.1116e+00,\n",
       "         -0.0000e+00,  0.0000e+00,  4.9956e-01, -0.0000e+00, -1.2218e-01],\n",
       "        [-0.0000e+00,  1.8629e+00, -4.9767e-01,  0.0000e+00, -0.0000e+00,\n",
       "          0.0000e+00, -0.0000e+00,  0.0000e+00,  4.3465e+00, -1.4476e+00]],\n",
       "       grad_fn=<DivBackward0>)"
      ]
     },
     "execution_count": 10,
     "metadata": {},
     "output_type": "execute_result"
    }
   ],
   "execution_count": 10
  },
  {
   "metadata": {},
   "cell_type": "markdown",
   "source": [
    "Задание 3. 6 баллов\n",
    "Реализуйте следующие классы (указана сигнатура init):\n",
    "\n",
    "BaseTransform(p: float) [базовый класс для всех трансформаций]\n",
    "RandomCrop(p: float, **kwargs)\n",
    "RandomRotate(p: float, **kwargs)\n",
    "RandomZoom(p: float, **kwargs) {*}\n",
    "ToTensor()\n",
    "Compose(list[BaseTransform])\n",
    "Последний класс должен принимать на вход список инстансов трех других. При вызове метода call он должен последовательно вызывать трансформации из списка. При вызове каждого из них с вероятностью p должно применяться изменение изображения, с вероятностью 1-p должно возвращаться исходное изображение. Класс входного изображения у всех классов - PIL.Image, выходного тоже. Класс ToTensor должен принимать на вход PIL.Image, возвращать - torch.Tensor."
   ],
   "id": "2afe83d620b40e4b"
  },
  {
   "metadata": {
    "ExecuteTime": {
     "end_time": "2024-11-26T12:54:48.259054Z",
     "start_time": "2024-11-26T12:54:48.250233Z"
    }
   },
   "cell_type": "code",
   "source": [
    "from PIL import Image\n",
    "from matplotlib import pyplot as plt\n",
    "\n",
    "class BaseTransform:\n",
    "    def __init__(self, p: float):\n",
    "        self.p = p\n",
    "\n",
    "    def __call__(self, image: Image.Image):\n",
    "        raise NotImplementedError(\"Subclasses should implement this method.\")"
   ],
   "id": "b7b62861cdf51c75",
   "outputs": [],
   "execution_count": 4
  },
  {
   "metadata": {
    "ExecuteTime": {
     "end_time": "2024-11-26T12:54:53.300385Z",
     "start_time": "2024-11-26T12:54:52.576754Z"
    }
   },
   "cell_type": "code",
   "source": [
    "class RandomCrop(BaseTransform):\n",
    "    def __init__(self, p: float, size: tuple):\n",
    "        super().__init__(p)\n",
    "        self.size = size\n",
    "\n",
    "    def __call__(self, image: Image.Image):\n",
    "        if random.random() < self.p:\n",
    "            w, h = image.size\n",
    "            crop_h, crop_w = self.size\n",
    "\n",
    "            top = random.randint(0, h - crop_h)\n",
    "            left = random.randint(0, w - crop_w)\n",
    "\n",
    "            return image.crop((left, top, left + crop_w, top + crop_h))\n",
    "\n",
    "        return image\n",
    "    \n",
    "input_image = Image.fromarray((np.random.rand(32, 32, 3) * 255).astype(np.uint8))\n",
    "plt.imshow(input_image)\n",
    "random_crop = RandomCrop(p=0.5, size=(24, 24))\n",
    "cropped_image = random_crop(input_image)\n",
    "# plt.imshow(cropped_image)\n",
    "cropped_image.size"
   ],
   "id": "837e3f4193af4e5d",
   "outputs": [
    {
     "data": {
      "text/plain": [
       "(24, 24)"
      ]
     },
     "execution_count": 5,
     "metadata": {},
     "output_type": "execute_result"
    },
    {
     "data": {
      "text/plain": [
       "<Figure size 640x480 with 1 Axes>"
      ],
      "image/png": "[encoded data removed]"
     },
     "metadata": {},
     "output_type": "display_data"
    }
   ],
   "execution_count": 5
  },
  {
   "metadata": {
    "ExecuteTime": {
     "end_time": "2024-11-26T12:54:16.547115100Z",
     "start_time": "2024-10-11T16:57:01.454417Z"
    }
   },
   "cell_type": "code",
   "source": [
    "class RandomRotate(BaseTransform):\n",
    "    def __init__(self, p: float, angles: tuple):\n",
    "        super().__init__(p)\n",
    "        self.angles = angles\n",
    "\n",
    "    def __call__(self, image: Image.Image):\n",
    "        if random.random() < self.p:\n",
    "            angle = random.uniform(*self.angles)\n",
    "            return image.rotate(angle)\n",
    "\n",
    "        return image\n",
    "    \n",
    "random_rotate = RandomRotate(p=0.5, angles=(-30, 30))\n",
    "rotated_image = random_rotate(input_image)\n",
    "plt.imshow(rotated_image)\n",
    "rotated_image.size"
   ],
   "id": "1eed41847ae24fcd",
   "outputs": [
    {
     "data": {
      "text/plain": [
       "(32, 32)"
      ]
     },
     "execution_count": 35,
     "metadata": {},
     "output_type": "execute_result"
    },
    {
     "data": {
      "text/plain": [
       "<Figure size 640x480 with 1 Axes>"
      ],
      "image/png": "[encoded data removed]"
     },
     "metadata": {},
     "output_type": "display_data"
    }
   ],
   "execution_count": 35
  },
  {
   "metadata": {
    "ExecuteTime": {
     "end_time": "2024-11-26T12:54:59.873075Z",
     "start_time": "2024-11-26T12:54:59.507700Z"
    }
   },
   "cell_type": "code",
   "source": [
    "class RandomZoom(BaseTransform):\n",
    "    def __init__(self, p: float, zoom_range: tuple):\n",
    "        super().__init__(p)\n",
    "        self.zoom_range = zoom_range\n",
    "\n",
    "    def __call__(self, image: Image.Image):\n",
    "        if random.random() < self.p:\n",
    "            zoom_factor = random.uniform(*self.zoom_range)\n",
    "\n",
    "            w, h = image.size\n",
    "            new_w, new_h = int(w * zoom_factor), int(h * zoom_factor)\n",
    "\n",
    "            zoomed_image = image.resize((new_w, new_h))\n",
    "\n",
    "            left = (new_w - w) // 2\n",
    "            top = (new_h - h) // 2\n",
    "            right = left + w\n",
    "            bottom = top + h\n",
    "\n",
    "            return zoomed_image.crop((left, top, right, bottom))\n",
    "\n",
    "        return image\n",
    "    \n",
    "random_zoom = RandomZoom(p=1, zoom_range=(0.5, 0.5))\n",
    "zoomed_image = random_zoom(input_image)\n",
    "plt.imshow(zoomed_image)\n",
    "zoomed_image.size"
   ],
   "id": "96de00bf48e93413",
   "outputs": [
    {
     "data": {
      "text/plain": [
       "(32, 32)"
      ]
     },
     "execution_count": 6,
     "metadata": {},
     "output_type": "execute_result"
    },
    {
     "data": {
      "text/plain": [
       "<Figure size 640x480 with 1 Axes>"
      ],
      "image/png": "[encoded data removed]"
     },
     "metadata": {},
     "output_type": "display_data"
    }
   ],
   "execution_count": 6
  },
  {
   "metadata": {
    "ExecuteTime": {
     "end_time": "2024-10-11T17:34:31.092220Z",
     "start_time": "2024-10-11T17:34:31.072444Z"
    }
   },
   "cell_type": "code",
   "source": [
    "class ToTensor:\n",
    "    def __call__(self, image: Image.Image) -> torch.Tensor:\n",
    "        return torch.from_numpy(np.array(image)).permute(2, 0, 1).float() if image.mode == 'RGB' else torch.from_numpy(np.array(image)).unsqueeze(0).float()\n",
    "    \n",
    "to_tensor = ToTensor()\n",
    "tensor_image = to_tensor(input_image)\n",
    "tensor_image.shape"
   ],
   "id": "93e324c8293f3c59",
   "outputs": [
    {
     "data": {
      "text/plain": [
       "torch.Size([3, 32, 32])"
      ]
     },
     "execution_count": 67,
     "metadata": {},
     "output_type": "execute_result"
    }
   ],
   "execution_count": 67
  },
  {
   "metadata": {
    "ExecuteTime": {
     "end_time": "2024-10-11T17:34:35.104522Z",
     "start_time": "2024-10-11T17:34:34.955779Z"
    }
   },
   "cell_type": "code",
   "source": [
    "class Compose:\n",
    "    def __init__(self, transforms):\n",
    "        self.transforms = transforms\n",
    "\n",
    "    def __call__(self, image: Image.Image) -> Image.Image:\n",
    "        for transform in self.transforms:\n",
    "            image = transform(image)\n",
    "        return image\n",
    "\n",
    "random_crop = RandomCrop(p=0.5, size=(24, 24))\n",
    "random_rotate = RandomRotate(p=0.5, angles=(-30, 30))\n",
    "random_zoom = RandomZoom(p=0.5, zoom_range=(2.0, 2.0))\n",
    "\n",
    "composed_transform = Compose([random_crop, random_rotate, random_zoom])\n",
    "\n",
    "output_image = composed_transform(input_image)\n",
    "plt.imshow(output_image)\n",
    "output_image.size"
   ],
   "id": "f559b9a00b04224",
   "outputs": [
    {
     "data": {
      "text/plain": [
       "(32, 32)"
      ]
     },
     "execution_count": 68,
     "metadata": {},
     "output_type": "execute_result"
    },
    {
     "data": {
      "text/plain": [
       "<Figure size 640x480 with 1 Axes>"
      ],
      "image/png": "[encoded data removed]"
     },
     "metadata": {},
     "output_type": "display_data"
    }
   ],
   "execution_count": 68
  },
  {
   "metadata": {},
   "cell_type": "markdown",
   "source": [
    "Задание 4. 3 балла\n",
    "Примените трансформации из задания 3 в качестве трансформаций датасета из практики 2.2. В этом задании можно пользоваться torch.nn, за исключением трансформаций. Покажите, как меняются лосс и метрики на трейне и на тесте в зависимости от количества и вероятностей трансформаций. Проведите обучение на большом количестве эпох. Опишите, что вы наблюдаете для каждого случая и какая есть разница, если применить трансформации."
   ],
   "id": "dc30521a3a7274b"
  },
  {
   "metadata": {
    "ExecuteTime": {
     "end_time": "2024-10-11T18:10:24.211753Z",
     "start_time": "2024-10-11T18:10:24.197451Z"
    }
   },
   "cell_type": "code",
   "source": [
    "class Resize(BaseTransform):\n",
    "    def __init__(self, size: tuple, p: float):\n",
    "        super().__init__(p)\n",
    "        self.size = size\n",
    "\n",
    "    def __call__(self, image: Image.Image):\n",
    "        return image.resize(self.size)"
   ],
   "id": "c4122b88380a6f1c",
   "outputs": [],
   "execution_count": 77
  },
  {
   "metadata": {
    "ExecuteTime": {
     "end_time": "2024-10-11T17:34:36.147481Z",
     "start_time": "2024-10-11T17:34:36.138349Z"
    }
   },
   "cell_type": "code",
   "source": [
    "import torch.nn as nn\n",
    "import torch.optim as optim\n",
    "from torchvision import datasets\n",
    "from torch.utils.data import DataLoader\n",
    "\n",
    "def get_dataloaders(transformations, batch_size=64):\n",
    "    train_dataset = datasets.FashionMNIST(root='./data', train=True, download=True, transform=transformations)\n",
    "    test_dataset = datasets.FashionMNIST(root='./data', train=False, download=True, transform=ToTensor())\n",
    "\n",
    "    train_loader = DataLoader(train_dataset, batch_size=batch_size, shuffle=True)\n",
    "    test_loader = DataLoader(test_dataset, batch_size=batch_size, shuffle=False)\n",
    "\n",
    "    return train_loader, test_loader"
   ],
   "id": "eac871328ba032c1",
   "outputs": [],
   "execution_count": 69
  },
  {
   "metadata": {
    "ExecuteTime": {
     "end_time": "2024-10-11T17:34:36.472850Z",
     "start_time": "2024-10-11T17:34:36.460619Z"
    }
   },
   "cell_type": "code",
   "source": [
    "class SimpleCNN(nn.Module):\n",
    "    def __init__(self):\n",
    "        super(SimpleCNN, self).__init__()\n",
    "        self.conv1 = nn.Conv2d(1, 32, kernel_size=3, padding=1)\n",
    "        self.conv2 = nn.Conv2d(32, 64, kernel_size=3, padding=1)\n",
    "        self.fc1 = nn.Linear(64 * 7 * 7, 128)\n",
    "        self.fc2 = nn.Linear(128, 10)\n",
    "\n",
    "    def forward(self, x):\n",
    "        x = nn.ReLU()(self.conv1(x))\n",
    "        x = nn.MaxPool2d(2)(x)\n",
    "        x = nn.ReLU()(self.conv2(x))\n",
    "        x = nn.MaxPool2d(2)(x)\n",
    "        x = x.view(x.size(0), -1)\n",
    "        x = nn.ReLU()(self.fc1(x))\n",
    "        return self.fc2(x)"
   ],
   "id": "38c8afb749b74dad",
   "outputs": [],
   "execution_count": 70
  },
  {
   "metadata": {
    "ExecuteTime": {
     "end_time": "2024-10-11T17:35:06.835610Z",
     "start_time": "2024-10-11T17:35:06.818789Z"
    }
   },
   "cell_type": "code",
   "source": [
    "def train(model, train_loader, criterion, optimizer, epochs):\n",
    "    model.train()\n",
    "    for epoch in range(epochs):\n",
    "        running_loss = 0.0\n",
    "        for images, labels in train_loader:\n",
    "            optimizer.zero_grad()\n",
    "            outputs = model(images)\n",
    "            loss = criterion(outputs, labels)\n",
    "            loss.backward()\n",
    "            optimizer.step()\n",
    "            running_loss += loss.item()\n",
    "        \n",
    "        avg_loss = running_loss / len(train_loader)\n",
    "        print(f'Epoch [{epoch + 1}/{epochs}], Loss: {avg_loss:.4f}')\n",
    "    return avg_loss\n",
    "\n",
    "def evaluate(model, test_loader):\n",
    "    model.eval()\n",
    "    correct = 0\n",
    "    total = 0\n",
    "    with torch.no_grad():\n",
    "        for images, labels in test_loader:\n",
    "            outputs = model(images)\n",
    "            _, predicted = torch.max(outputs.data, 1)\n",
    "            total += labels.size(0)\n",
    "            correct += (predicted == labels).sum().item()\n",
    "    return 100 * correct / total"
   ],
   "id": "e40c02cdecfa6423",
   "outputs": [],
   "execution_count": 73
  },
  {
   "metadata": {
    "ExecuteTime": {
     "end_time": "2024-10-11T19:35:34.834275Z",
     "start_time": "2024-10-11T18:12:19.035736Z"
    }
   },
   "cell_type": "code",
   "source": [
    "def run_experiment(params, epochs=10):\n",
    "    results = []\n",
    "    \n",
    "    for crop_p, rotate_p, zoom_p in params:\n",
    "        transformations = Compose([\n",
    "            RandomCrop(p=crop_p, size=(28, 28)),\n",
    "            RandomRotate(p=rotate_p, angles=(-30, 30)),\n",
    "            RandomZoom(p=zoom_p, zoom_range=(1.0, 1.5)),\n",
    "            Resize(size=(28, 28), p=1),\n",
    "            ToTensor()\n",
    "        ])\n",
    "        \n",
    "        train_loader, test_loader = get_dataloaders(transformations)\n",
    "        \n",
    "        model = SimpleCNN()\n",
    "        criterion = nn.CrossEntropyLoss()\n",
    "        optimizer = optim.Adam(model.parameters(), lr=0.001)\n",
    "\n",
    "        avg_loss = train(model, train_loader, criterion, optimizer, epochs)\n",
    "\n",
    "        accuracy = evaluate(model, test_loader)\n",
    "        \n",
    "        results.append((crop_p, rotate_p, zoom_p, avg_loss, accuracy))\n",
    "        print(f'Crop P: {crop_p}, Rotate P: {rotate_p}, Zoom P: {zoom_p}, Loss: {avg_loss:.4f}, Accuracy: {accuracy:.2f}%')\n",
    "\n",
    "\n",
    "params = [\n",
    "    (0.0, 0.0, 0.0),\n",
    "    (0.5, 0.5, 0.5),\n",
    "    (0.7, 0.3, 0.7),\n",
    "    (0.9, 0.5, 0.5),\n",
    "    (0.5, 0.7, 0.3)\n",
    "]\n",
    "\n",
    "run_experiment(params, epochs=20)"
   ],
   "id": "cddbdb3fa724c756",
   "outputs": [
    {
     "name": "stdout",
     "output_type": "stream",
     "text": [
      "Epoch [1/20], Loss: 0.4969\n",
      "Epoch [2/20], Loss: 0.2769\n",
      "Epoch [3/20], Loss: 0.2421\n",
      "Epoch [4/20], Loss: 0.2125\n",
      "Epoch [5/20], Loss: 0.1945\n",
      "Epoch [6/20], Loss: 0.1748\n",
      "Epoch [7/20], Loss: 0.1593\n",
      "Epoch [8/20], Loss: 0.1446\n",
      "Epoch [9/20], Loss: 0.1320\n",
      "Epoch [10/20], Loss: 0.1168\n",
      "Epoch [11/20], Loss: 0.1092\n",
      "Epoch [12/20], Loss: 0.0985\n",
      "Epoch [13/20], Loss: 0.0945\n",
      "Epoch [14/20], Loss: 0.0885\n",
      "Epoch [15/20], Loss: 0.0767\n",
      "Epoch [16/20], Loss: 0.0740\n",
      "Epoch [17/20], Loss: 0.0739\n",
      "Epoch [18/20], Loss: 0.0628\n",
      "Epoch [19/20], Loss: 0.0675\n",
      "Epoch [20/20], Loss: 0.0550\n",
      "Crop P: 0.0, Rotate P: 0.0, Zoom P: 0.0, Loss: 0.0550, Accuracy: 90.68%\n",
      "Epoch [1/20], Loss: 0.7173\n",
      "Epoch [2/20], Loss: 0.4785\n",
      "Epoch [3/20], Loss: 0.4362\n",
      "Epoch [4/20], Loss: 0.4122\n",
      "Epoch [5/20], Loss: 0.3923\n",
      "Epoch [6/20], Loss: 0.3873\n",
      "Epoch [7/20], Loss: 0.3723\n",
      "Epoch [8/20], Loss: 0.3627\n",
      "Epoch [9/20], Loss: 0.3572\n",
      "Epoch [10/20], Loss: 0.3519\n",
      "Epoch [11/20], Loss: 0.3441\n",
      "Epoch [12/20], Loss: 0.3404\n",
      "Epoch [13/20], Loss: 0.3330\n",
      "Epoch [14/20], Loss: 0.3288\n",
      "Epoch [15/20], Loss: 0.3255\n",
      "Epoch [16/20], Loss: 0.3233\n",
      "Epoch [17/20], Loss: 0.3205\n",
      "Epoch [18/20], Loss: 0.3109\n",
      "Epoch [19/20], Loss: 0.3104\n",
      "Epoch [20/20], Loss: 0.3135\n",
      "Crop P: 0.5, Rotate P: 0.5, Zoom P: 0.5, Loss: 0.3135, Accuracy: 90.06%\n",
      "Epoch [1/20], Loss: 0.6641\n",
      "Epoch [2/20], Loss: 0.4538\n",
      "Epoch [3/20], Loss: 0.4155\n",
      "Epoch [4/20], Loss: 0.3920\n",
      "Epoch [5/20], Loss: 0.3738\n",
      "Epoch [6/20], Loss: 0.3597\n",
      "Epoch [7/20], Loss: 0.3512\n",
      "Epoch [8/20], Loss: 0.3455\n",
      "Epoch [9/20], Loss: 0.3348\n",
      "Epoch [10/20], Loss: 0.3255\n",
      "Epoch [11/20], Loss: 0.3190\n",
      "Epoch [12/20], Loss: 0.3163\n",
      "Epoch [13/20], Loss: 0.3139\n",
      "Epoch [14/20], Loss: 0.3041\n",
      "Epoch [15/20], Loss: 0.3041\n",
      "Epoch [16/20], Loss: 0.2993\n",
      "Epoch [17/20], Loss: 0.2940\n",
      "Epoch [18/20], Loss: 0.2951\n",
      "Epoch [19/20], Loss: 0.2921\n",
      "Epoch [20/20], Loss: 0.2892\n",
      "Crop P: 0.7, Rotate P: 0.3, Zoom P: 0.7, Loss: 0.2892, Accuracy: 90.68%\n",
      "Epoch [1/20], Loss: 0.7196\n",
      "Epoch [2/20], Loss: 0.4763\n",
      "Epoch [3/20], Loss: 0.4309\n",
      "Epoch [4/20], Loss: 0.4027\n",
      "Epoch [5/20], Loss: 0.3838\n",
      "Epoch [6/20], Loss: 0.3773\n",
      "Epoch [7/20], Loss: 0.3668\n",
      "Epoch [8/20], Loss: 0.3563\n",
      "Epoch [9/20], Loss: 0.3491\n",
      "Epoch [10/20], Loss: 0.3478\n",
      "Epoch [11/20], Loss: 0.3372\n",
      "Epoch [12/20], Loss: 0.3304\n",
      "Epoch [13/20], Loss: 0.3268\n",
      "Epoch [14/20], Loss: 0.3205\n",
      "Epoch [15/20], Loss: 0.3195\n",
      "Epoch [16/20], Loss: 0.3122\n",
      "Epoch [17/20], Loss: 0.3094\n",
      "Epoch [18/20], Loss: 0.3084\n",
      "Epoch [19/20], Loss: 0.3039\n",
      "Epoch [20/20], Loss: 0.2976\n",
      "Crop P: 0.9, Rotate P: 0.5, Zoom P: 0.5, Loss: 0.2976, Accuracy: 90.33%\n",
      "Epoch [1/20], Loss: 0.6655\n",
      "Epoch [2/20], Loss: 0.4496\n",
      "Epoch [3/20], Loss: 0.4056\n",
      "Epoch [4/20], Loss: 0.3840\n",
      "Epoch [5/20], Loss: 0.3645\n",
      "Epoch [6/20], Loss: 0.3538\n",
      "Epoch [7/20], Loss: 0.3406\n",
      "Epoch [8/20], Loss: 0.3364\n",
      "Epoch [9/20], Loss: 0.3259\n",
      "Epoch [10/20], Loss: 0.3226\n",
      "Epoch [11/20], Loss: 0.3193\n",
      "Epoch [12/20], Loss: 0.3100\n",
      "Epoch [13/20], Loss: 0.3047\n",
      "Epoch [14/20], Loss: 0.3009\n",
      "Epoch [15/20], Loss: 0.3007\n",
      "Epoch [16/20], Loss: 0.2957\n",
      "Epoch [17/20], Loss: 0.2914\n",
      "Epoch [18/20], Loss: 0.2917\n",
      "Epoch [19/20], Loss: 0.2888\n",
      "Epoch [20/20], Loss: 0.2849\n",
      "Crop P: 0.5, Rotate P: 0.7, Zoom P: 0.3, Loss: 0.2849, Accuracy: 90.49%\n"
     ]
    }
   ],
   "execution_count": 79
  },
  {
   "metadata": {},
   "cell_type": "code",
   "outputs": [],
   "execution_count": null,
   "source": "",
   "id": "9c8dc98eab483a32"
  }
 ],
 "metadata": {
  "kernelspec": {
   "display_name": "Python 3",
   "language": "python",
   "name": "python3"
  },
  "language_info": {
   "codemirror_mode": {
    "name": "ipython",
    "version": 2
   },
   "file_extension": ".py",
   "mimetype": "text/x-python",
   "name": "python",
   "nbconvert_exporter": "python",
   "pygments_lexer": "ipython2",
   "version": "2.7.6"
  }
 },
 "nbformat": 4,
 "nbformat_minor": 5
}
